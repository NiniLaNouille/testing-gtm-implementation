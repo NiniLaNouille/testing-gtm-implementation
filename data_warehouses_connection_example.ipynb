{
  "nbformat": 4,
  "nbformat_minor": 0,
  "metadata": {
    "colab": {
      "provenance": [],
      "toc_visible": true,
      "include_colab_link": true
    },
    "kernelspec": {
      "name": "python3",
      "display_name": "Python 3"
    },
    "language_info": {
      "name": "python"
    }
  },
  "cells": [
    {
      "cell_type": "markdown",
      "metadata": {
        "id": "view-in-github",
        "colab_type": "text"
      },
      "source": [
        "<a href=\"https://colab.research.google.com/github/NiniLaNouille/testing-gtm-implementation/blob/main/data_warehouses_connection_example.ipynb\" target=\"_parent\"><img src=\"https://colab.research.google.com/assets/colab-badge.svg\" alt=\"Open In Colab\"/></a>"
      ]
    },
    {
      "cell_type": "markdown",
      "source": [
        "# Data Warehouses Connection example\n",
        "This is an example on how to connect to our snowflake and BigQuery instance from a Google Colab notebook."
      ],
      "metadata": {
        "id": "pCY6sn_u064t"
      }
    },
    {
      "cell_type": "code",
      "execution_count": null,
      "metadata": {
        "colab": {
          "base_uri": "https://localhost:8080/"
        },
        "collapsed": true,
        "id": "kB2u-xnE02nI",
        "outputId": "31423d10-c351-4d51-965d-fcabcaf5c295"
      },
      "outputs": [
        {
          "output_type": "stream",
          "name": "stdout",
          "text": [
            "Requirement already satisfied: snowflake-connector-python in /usr/local/lib/python3.10/dist-packages (3.10.0)\n",
            "Requirement already satisfied: asn1crypto<2.0.0,>0.24.0 in /usr/local/lib/python3.10/dist-packages (from snowflake-connector-python) (1.5.1)\n",
            "Requirement already satisfied: cffi<2.0.0,>=1.9 in /usr/local/lib/python3.10/dist-packages (from snowflake-connector-python) (1.16.0)\n",
            "Requirement already satisfied: cryptography<43.0.0,>=3.1.0 in /usr/local/lib/python3.10/dist-packages (from snowflake-connector-python) (42.0.7)\n",
            "Requirement already satisfied: pyOpenSSL<25.0.0,>=16.2.0 in /usr/local/lib/python3.10/dist-packages (from snowflake-connector-python) (24.1.0)\n",
            "Requirement already satisfied: pyjwt<3.0.0 in /usr/lib/python3/dist-packages (from snowflake-connector-python) (2.3.0)\n",
            "Requirement already satisfied: pytz in /usr/local/lib/python3.10/dist-packages (from snowflake-connector-python) (2023.4)\n",
            "Requirement already satisfied: requests<3.0.0 in /usr/local/lib/python3.10/dist-packages (from snowflake-connector-python) (2.31.0)\n",
            "Requirement already satisfied: packaging in /usr/local/lib/python3.10/dist-packages (from snowflake-connector-python) (24.0)\n",
            "Requirement already satisfied: charset-normalizer<4,>=2 in /usr/local/lib/python3.10/dist-packages (from snowflake-connector-python) (3.3.2)\n",
            "Requirement already satisfied: idna<4,>=2.5 in /usr/local/lib/python3.10/dist-packages (from snowflake-connector-python) (3.7)\n",
            "Requirement already satisfied: certifi>=2017.4.17 in /usr/local/lib/python3.10/dist-packages (from snowflake-connector-python) (2024.2.2)\n",
            "Requirement already satisfied: typing-extensions<5,>=4.3 in /usr/local/lib/python3.10/dist-packages (from snowflake-connector-python) (4.11.0)\n",
            "Requirement already satisfied: filelock<4,>=3.5 in /usr/local/lib/python3.10/dist-packages (from snowflake-connector-python) (3.14.0)\n",
            "Requirement already satisfied: sortedcontainers>=2.4.0 in /usr/local/lib/python3.10/dist-packages (from snowflake-connector-python) (2.4.0)\n",
            "Requirement already satisfied: platformdirs<5.0.0,>=2.6.0 in /usr/local/lib/python3.10/dist-packages (from snowflake-connector-python) (4.2.1)\n",
            "Requirement already satisfied: tomlkit in /usr/local/lib/python3.10/dist-packages (from snowflake-connector-python) (0.12.5)\n",
            "Requirement already satisfied: pycparser in /usr/local/lib/python3.10/dist-packages (from cffi<2.0.0,>=1.9->snowflake-connector-python) (2.22)\n",
            "Requirement already satisfied: urllib3<3,>=1.21.1 in /usr/local/lib/python3.10/dist-packages (from requests<3.0.0->snowflake-connector-python) (2.0.7)\n",
            "Requirement already satisfied: google-cloud-bigquery in /usr/local/lib/python3.10/dist-packages (3.21.0)\n",
            "Requirement already satisfied: google-api-core[grpc]!=2.0.*,!=2.1.*,!=2.10.*,!=2.2.*,!=2.3.*,!=2.4.*,!=2.5.*,!=2.6.*,!=2.7.*,!=2.8.*,!=2.9.*,<3.0.0dev,>=1.34.1 in /usr/local/lib/python3.10/dist-packages (from google-cloud-bigquery) (2.11.1)\n",
            "Requirement already satisfied: google-auth<3.0.0dev,>=2.14.1 in /usr/local/lib/python3.10/dist-packages (from google-cloud-bigquery) (2.27.0)\n",
            "Requirement already satisfied: google-cloud-core<3.0.0dev,>=1.6.0 in /usr/local/lib/python3.10/dist-packages (from google-cloud-bigquery) (2.3.3)\n",
            "Requirement already satisfied: google-resumable-media<3.0dev,>=0.6.0 in /usr/local/lib/python3.10/dist-packages (from google-cloud-bigquery) (2.7.0)\n",
            "Requirement already satisfied: packaging>=20.0.0 in /usr/local/lib/python3.10/dist-packages (from google-cloud-bigquery) (24.0)\n",
            "Requirement already satisfied: python-dateutil<3.0dev,>=2.7.2 in /usr/local/lib/python3.10/dist-packages (from google-cloud-bigquery) (2.8.2)\n",
            "Requirement already satisfied: requests<3.0.0dev,>=2.21.0 in /usr/local/lib/python3.10/dist-packages (from google-cloud-bigquery) (2.31.0)\n",
            "Requirement already satisfied: googleapis-common-protos<2.0.dev0,>=1.56.2 in /usr/local/lib/python3.10/dist-packages (from google-api-core[grpc]!=2.0.*,!=2.1.*,!=2.10.*,!=2.2.*,!=2.3.*,!=2.4.*,!=2.5.*,!=2.6.*,!=2.7.*,!=2.8.*,!=2.9.*,<3.0.0dev,>=1.34.1->google-cloud-bigquery) (1.63.0)\n",
            "Requirement already satisfied: protobuf!=3.20.0,!=3.20.1,!=4.21.0,!=4.21.1,!=4.21.2,!=4.21.3,!=4.21.4,!=4.21.5,<5.0.0.dev0,>=3.19.5 in /usr/local/lib/python3.10/dist-packages (from google-api-core[grpc]!=2.0.*,!=2.1.*,!=2.10.*,!=2.2.*,!=2.3.*,!=2.4.*,!=2.5.*,!=2.6.*,!=2.7.*,!=2.8.*,!=2.9.*,<3.0.0dev,>=1.34.1->google-cloud-bigquery) (3.20.3)\n",
            "Requirement already satisfied: grpcio<2.0dev,>=1.33.2 in /usr/local/lib/python3.10/dist-packages (from google-api-core[grpc]!=2.0.*,!=2.1.*,!=2.10.*,!=2.2.*,!=2.3.*,!=2.4.*,!=2.5.*,!=2.6.*,!=2.7.*,!=2.8.*,!=2.9.*,<3.0.0dev,>=1.34.1->google-cloud-bigquery) (1.63.0)\n",
            "Requirement already satisfied: grpcio-status<2.0.dev0,>=1.33.2 in /usr/local/lib/python3.10/dist-packages (from google-api-core[grpc]!=2.0.*,!=2.1.*,!=2.10.*,!=2.2.*,!=2.3.*,!=2.4.*,!=2.5.*,!=2.6.*,!=2.7.*,!=2.8.*,!=2.9.*,<3.0.0dev,>=1.34.1->google-cloud-bigquery) (1.48.2)\n",
            "Requirement already satisfied: cachetools<6.0,>=2.0.0 in /usr/local/lib/python3.10/dist-packages (from google-auth<3.0.0dev,>=2.14.1->google-cloud-bigquery) (5.3.3)\n",
            "Requirement already satisfied: pyasn1-modules>=0.2.1 in /usr/local/lib/python3.10/dist-packages (from google-auth<3.0.0dev,>=2.14.1->google-cloud-bigquery) (0.4.0)\n",
            "Requirement already satisfied: rsa<5,>=3.1.4 in /usr/local/lib/python3.10/dist-packages (from google-auth<3.0.0dev,>=2.14.1->google-cloud-bigquery) (4.9)\n",
            "Requirement already satisfied: google-crc32c<2.0dev,>=1.0 in /usr/local/lib/python3.10/dist-packages (from google-resumable-media<3.0dev,>=0.6.0->google-cloud-bigquery) (1.5.0)\n",
            "Requirement already satisfied: six>=1.5 in /usr/local/lib/python3.10/dist-packages (from python-dateutil<3.0dev,>=2.7.2->google-cloud-bigquery) (1.16.0)\n",
            "Requirement already satisfied: charset-normalizer<4,>=2 in /usr/local/lib/python3.10/dist-packages (from requests<3.0.0dev,>=2.21.0->google-cloud-bigquery) (3.3.2)\n",
            "Requirement already satisfied: idna<4,>=2.5 in /usr/local/lib/python3.10/dist-packages (from requests<3.0.0dev,>=2.21.0->google-cloud-bigquery) (3.7)\n",
            "Requirement already satisfied: urllib3<3,>=1.21.1 in /usr/local/lib/python3.10/dist-packages (from requests<3.0.0dev,>=2.21.0->google-cloud-bigquery) (2.0.7)\n",
            "Requirement already satisfied: certifi>=2017.4.17 in /usr/local/lib/python3.10/dist-packages (from requests<3.0.0dev,>=2.21.0->google-cloud-bigquery) (2024.2.2)\n",
            "Requirement already satisfied: pyasn1<0.7.0,>=0.4.6 in /usr/local/lib/python3.10/dist-packages (from pyasn1-modules>=0.2.1->google-auth<3.0.0dev,>=2.14.1->google-cloud-bigquery) (0.6.0)\n"
          ]
        }
      ],
      "source": [
        "# Install required packages\n",
        "!pip install snowflake-connector-python\n",
        "!pip install google-cloud-bigquery"
      ]
    },
    {
      "cell_type": "markdown",
      "source": [
        "Imports necessary libraries"
      ],
      "metadata": {
        "id": "spWcr6VkLbuX"
      }
    },
    {
      "cell_type": "code",
      "source": [
        "from google.colab import userdata\n",
        "import snowflake.connector\n",
        "from google.colab import auth\n",
        "from google.cloud import bigquery\n",
        "import pandas as pd"
      ],
      "metadata": {
        "id": "Owb5cFuh1Oj5"
      },
      "execution_count": null,
      "outputs": []
    },
    {
      "cell_type": "code",
      "source": [
        "# Snowflake configuration\n",
        "conn = snowflake.connector.connect(\n",
        "    user='cloudfunctions',\n",
        "    password=userdata.get('SNOWFLAKE_PASSWORD'),\n",
        "    account='ju81100.europe-west4.gcp',\n",
        "    warehouse='reporting',\n",
        "    database='analytics',\n",
        "    schema='dbt'\n",
        ")\n",
        "\n",
        "# Create a cursor object\n",
        "cur = conn.cursor()"
      ],
      "metadata": {
        "id": "rsgQQFyf1OrB"
      },
      "execution_count": null,
      "outputs": []
    },
    {
      "cell_type": "code",
      "source": [
        "# BigQuery configuration\n",
        "auth.authenticate_user()\n",
        "client = bigquery.Client()"
      ],
      "metadata": {
        "id": "mzwZ-OLQMhvc"
      },
      "execution_count": null,
      "outputs": []
    },
    {
      "cell_type": "markdown",
      "source": [
        "Example of an execution of a query in Snowflake."
      ],
      "metadata": {
        "id": "MFkaNqgrLk_q"
      }
    },
    {
      "cell_type": "code",
      "source": [
        "# Execute a query\n",
        "cur.execute(\"SELECT * FROM fct_order_row LIMIT 10\")\n",
        "\n",
        "# Fetch the results\n",
        "results = cur.fetchall()\n",
        "\n",
        "# Display the results\n",
        "for row in results:\n",
        "    print(row)\n",
        "\n",
        "# Close the cursor and the connection\n",
        "cur.close()\n",
        "conn.close()"
      ],
      "metadata": {
        "colab": {
          "base_uri": "https://localhost:8080/"
        },
        "id": "OISn13HoJDhK",
        "outputId": "d791c670-978e-4c24-8eda-05642a59732c"
      },
      "execution_count": null,
      "outputs": [
        {
          "output_type": "stream",
          "name": "stdout",
          "text": [
            "(13676827, 'europe-north1', 'FI', 'FI', 1428076, 417, None, 5, 1, 237600, 'jNm81MIKV5MH8Qo56N4g1KDpb8G3', 19822, 'Kantolan Rapea pallopipari valkosuklaa 150g', None, datetime.date(2024, 6, 9), Decimal('0.690000'), Decimal('2.390000'), Decimal('-0.100000'), None, '[FI] Standard pricing', 'procurement campaign', Decimal('1.000000'), Decimal('0.140000'), Decimal('-0.100000'), Decimal('0.610000'), Decimal('0.690000'), 'Ax6gInSPEHV0c0UDYOPE2U1N3gbzHYQGKR9xTtBEFcM=', 'RWyGfnCGQNrGool5MJUH2QGvVWhAIMKTYG7XOgHF3hc=', 'PDORTEwzP+kMC5J0QxtpZT9vdHh21Uqt5kGqiHTVcJw=', 'iyes+KHsKs4IySTHZOud3lEFGHkoT12Z6TqKpooyz/I=', 'mXc/EUAAn4ztilHKlhXXrRbdlFjGYQzJtZd2jKHeNls=', '33450', '', 'FI', '4oc2kt95EkboCqpe5nAjK+SESya9nDkL4uhVjLAmywk=', 'Siivikkala', False, 'Ax6gInSPEHV0c0UDYOPE2U1N3gbzHYQGKR9xTtBEFcM=', 'RWyGfnCGQNrGool5MJUH2QGvVWhAIMKTYG7XOgHF3hc=', 'PDORTEwzP+kMC5J0QxtpZT9vdHh21Uqt5kGqiHTVcJw=', '33450', 'mXc/EUAAn4ztilHKlhXXrRbdlFjGYQzJtZd2jKHeNls=', 'Siivikkala', '4oc2kt95EkboCqpe5nAjK+SESya9nDkL4uhVjLAmywk=', 'iyes+KHsKs4IySTHZOud3lEFGHkoT12Z6TqKpooyz/I=', None, None, None, datetime.datetime(2024, 2, 26, 23, 15, 19, tzinfo=pytz.FixedOffset(120)), datetime.datetime(2024, 2, 29, 3, 36, 21, tzinfo=pytz.FixedOffset(120)), datetime.datetime(2024, 2, 29, 3, 36, 21, tzinfo=pytz.FixedOffset(120)), datetime.datetime(2024, 2, 29, 1, 34, 45, 408000, tzinfo=pytz.FixedOffset(120)), datetime.datetime(2024, 2, 29, 18, 21, 14, 723000, tzinfo=pytz.FixedOffset(120)), datetime.date(2024, 2, 28), datetime.datetime(2024, 3, 1, 17, 11, 12, 728000, tzinfo=pytz.FixedOffset(120)), datetime.datetime(2024, 3, 1, 17, 11, 12, 728000, tzinfo=pytz.FixedOffset(120)), datetime.datetime(2024, 2, 29, 2, 4, 9, 740000, tzinfo=<UTC>), 'Matkahuolto Jako-paketti (kotiinkuljetus)', 'Matkahuolto', 'COMPLETED', 'COMPLETED', None, Decimal('47.946000'), '373325384946580170,373325384946580187,373325384946580194', Decimal('95.390000'), None, None, None, 'web', 'e8a771e6-a638-4c6a-b458-ba5c375eb0e6', 'fi', Decimal('0.008104'), Decimal('0.003098'), Decimal('0.000000'), Decimal('0.000000'), Decimal('0.000000'), Decimal('0.000000'), Decimal('-0.344300'), Decimal('-0.205945'), Decimal('-0.002116'), Decimal('-0.002497'), Decimal('-0.000185'), Decimal('-0.003253'), Decimal('-0.006141'), Decimal('0.000000'), 0, 0, None, None, None, None, None, None, None, Decimal('0.690000'), Decimal('0.610000'), Decimal('0.610000'), Decimal('0.690000'), None, Decimal('0.510000'), Decimal('-0.054438'), Decimal('2.000000'), None)\n",
            "(14043399, 'europe-north1', 'FI', 'FI', 1465073, 417, None, 4, 1, 23362, '23362', 24377, 'Pansuola Yrtti mineraalisuola 80g', None, datetime.date(2024, 3, 28), Decimal('0.500000'), Decimal('3.450000'), Decimal('-0.080000'), None, '[FI] Standard pricing', 'procurement campaign', Decimal('4.000000'), Decimal('0.140000'), Decimal('-0.320000'), Decimal('1.750000'), Decimal('2.000000'), 'uB62i0vQfj60kvRsQBvpo5jjASwQJlr7BcnhXu4pKKY=', 'D2ScQTKfOFkAAqZJ6zANss3yW7gFFNNNKuPPS/XJ6Ac=', '3LTtoUZouc5BG0qnOIA3KUBFxBTW82sPSzbj3+HLqqM=', 'iyes+KHsKs4IySTHZOud3lEFGHkoT12Z6TqKpooyz/I=', 'UkQHezY2a2v/89/vjb73f40zx4fJt7R1pcLpBgsHULo=', '90820', '', 'FI', 'A2yhL9aNtGhGwsII/MOUDx1k4tt0FDhIBbbDnD7FED8=', 'Kello', False, 'uB62i0vQfj60kvRsQBvpo5jjASwQJlr7BcnhXu4pKKY=', 'D2ScQTKfOFkAAqZJ6zANss3yW7gFFNNNKuPPS/XJ6Ac=', '3LTtoUZouc5BG0qnOIA3KUBFxBTW82sPSzbj3+HLqqM=', '90820', 'UkQHezY2a2v/89/vjb73f40zx4fJt7R1pcLpBgsHULo=', 'Kello', 'A2yhL9aNtGhGwsII/MOUDx1k4tt0FDhIBbbDnD7FED8=', 'iyes+KHsKs4IySTHZOud3lEFGHkoT12Z6TqKpooyz/I=', None, None, None, datetime.datetime(2024, 4, 11, 13, 0, 50, tzinfo=pytz.FixedOffset(180)), datetime.datetime(2024, 4, 22, 14, 56, 8, tzinfo=pytz.FixedOffset(180)), datetime.datetime(2024, 4, 22, 14, 56, 8, tzinfo=pytz.FixedOffset(180)), datetime.datetime(2024, 4, 22, 11, 57, 51, 163000, tzinfo=pytz.FixedOffset(180)), datetime.datetime(2024, 4, 23, 14, 12, 6, 379000, tzinfo=pytz.FixedOffset(180)), datetime.date(2024, 4, 12), datetime.datetime(2024, 4, 24, 13, 30, 23, 907000, tzinfo=pytz.FixedOffset(180)), datetime.datetime(2024, 4, 26, 9, 35, 32, 51000, tzinfo=pytz.FixedOffset(180)), datetime.datetime(2024, 4, 22, 12, 3, 51, 809000, tzinfo=<UTC>), 'Matkahuolto Lähellä-paketti (noutopiste)', 'Matkahuolto', 'COMPLETED', 'COMPLETED', '6356', Decimal('15.648000'), '373325385041155546', Decimal('40.430000'), None, None, None, 'web', 'aa0e0ca4-a69a-4cd4-a322-a6f6eac12138', 'fi', Decimal('0.051050'), Decimal('0.023881'), Decimal('0.000000'), Decimal('0.000000'), Decimal('0.000000'), Decimal('0.000000'), Decimal('-0.334409'), Decimal('-0.176186'), Decimal('-0.006079'), Decimal('-0.008896'), Decimal('-0.000611'), Decimal('-0.023881'), Decimal('-0.017800'), Decimal('0.000000'), 0, 0, None, None, None, None, None, None, None, Decimal('2.000000'), Decimal('1.750000'), Decimal('1.750000'), Decimal('2.000000'), None, Decimal('1.430000'), Decimal('0.862138'), Decimal('12.000000'), None)\n",
            "(13861709, 'europe-north1', 'FI', 'FI', 1446447, 417, None, 4, 1, 54044, '54044', 23051, 'Auran majoneesi 270g', None, datetime.date(2024, 5, 9), Decimal('1.850000'), Decimal('3.090000'), Decimal('-0.700000'), None, '[FI] Standard pricing', 'procurement campaign', Decimal('2.000000'), Decimal('0.140000'), Decimal('-1.400000'), Decimal('3.250000'), Decimal('3.700000'), 'VgSrlb5Wbd6x7AhlpYjcOeNYft3Tqb+KNW20z5q3gHQ=', 'kO9E1tv00w7gd/cWzWg7bUyzM2tawXCwUuqd82G236w=', '5MFUT9JB8Rqx8cqlb3DY0y+MSY29NYGiLbaPtOXQ0+M=', 'iyes+KHsKs4IySTHZOud3lEFGHkoT12Z6TqKpooyz/I=', 'hi5uvsPZBBHwgq3dmkGE3ewm+kFlyqbIbrTaWONa5WY=', '92400', '', 'FI', '/I/Znv2oM1Xxqs1GDgWOfGUbG/g1W9Rqs2Yd5ex9eBo=', 'Ruukki', False, 'VgSrlb5Wbd6x7AhlpYjcOeNYft3Tqb+KNW20z5q3gHQ=', 'kO9E1tv00w7gd/cWzWg7bUyzM2tawXCwUuqd82G236w=', '5MFUT9JB8Rqx8cqlb3DY0y+MSY29NYGiLbaPtOXQ0+M=', '92400', 'hi5uvsPZBBHwgq3dmkGE3ewm+kFlyqbIbrTaWONa5WY=', 'Ruukki', '/I/Znv2oM1Xxqs1GDgWOfGUbG/g1W9Rqs2Yd5ex9eBo=', 'iyes+KHsKs4IySTHZOud3lEFGHkoT12Z6TqKpooyz/I=', None, None, None, datetime.datetime(2024, 3, 18, 13, 39, 50, tzinfo=pytz.FixedOffset(120)), datetime.datetime(2024, 3, 19, 17, 6, 27, tzinfo=pytz.FixedOffset(120)), datetime.datetime(2024, 3, 19, 17, 6, 27, tzinfo=pytz.FixedOffset(120)), datetime.datetime(2024, 3, 19, 15, 7, 45, 459000, tzinfo=pytz.FixedOffset(120)), datetime.datetime(2024, 3, 20, 14, 39, 19, 472000, tzinfo=pytz.FixedOffset(120)), datetime.date(2024, 3, 19), datetime.datetime(2024, 3, 21, 11, 7, 19, 707000, tzinfo=pytz.FixedOffset(120)), datetime.datetime(2024, 3, 21, 11, 7, 19, 707000, tzinfo=pytz.FixedOffset(120)), datetime.datetime(2024, 3, 19, 16, 3, 51, 514000, tzinfo=<UTC>), 'Matkahuolto Lähellä-paketti (noutopiste)', 'Matkahuolto', 'COMPLETED', 'COMPLETED', '799', Decimal('9.497000'), '373325384981865508', Decimal('71.560000'), None, None, None, 'web', '281f94ed-9b74-46f8-a440-d20e884f6f0f', 'fi', Decimal('0.052117'), Decimal('0.046620'), Decimal('0.000000'), Decimal('0.000000'), Decimal('0.000000'), Decimal('0.000000'), Decimal('-0.322805'), Decimal('-0.186392'), Decimal('-0.021189'), Decimal('-0.042834'), Decimal('-0.002818'), Decimal('-0.048951'), Decimal('-0.032930'), Decimal('0.000000'), 0, 0, None, None, None, None, None, None, None, Decimal('3.700000'), Decimal('3.250000'), Decimal('3.250000'), Decimal('3.700000'), None, Decimal('1.850000'), Decimal('1.192081'), Decimal('2.000000'), None)\n",
            "(14027355, 'europe-north1', 'FI', 'FI', 1463347, 417, None, 4, 1, 138126, 'GCfkzhY3c4aguEtIeZ0UQaKsEin1', 22514, 'Keski Vaniljarinkeli 378g', None, datetime.date(2024, 4, 19), Decimal('1.050000'), Decimal('2.690000'), Decimal('-0.360000'), None, '[FI] Standard pricing', 'procurement campaign', Decimal('2.000000'), Decimal('0.140000'), Decimal('-0.720000'), Decimal('1.840000'), Decimal('2.100000'), 'KQ05SlvxRNWgNtZFYDYM1yHV212zQnBy4iLlgHQljYE=', 'EHBHEF9Ix+sJxaBhcyjgHD1aL5BM0FyVY1uFYa1MDFg=', 'g3bb/36p+S8L8oUWYlW/QtcvX0fc+P1ChgrKPdxJ1bY=', 'iyes+KHsKs4IySTHZOud3lEFGHkoT12Z6TqKpooyz/I=', 'hHvc/SttOKD5L6bukqBQ/2Cx0sFsOApvYAm/noCiPzg=', '48100', '', 'FI', 'ZdUyLgtBUxFdUJjjCPdDO3GCVhNrqpxf0g//V+uVnmo=', 'Kotka', False, 'KQ05SlvxRNWgNtZFYDYM1yHV212zQnBy4iLlgHQljYE=', 'EHBHEF9Ix+sJxaBhcyjgHD1aL5BM0FyVY1uFYa1MDFg=', 'g3bb/36p+S8L8oUWYlW/QtcvX0fc+P1ChgrKPdxJ1bY=', '48100', 'hHvc/SttOKD5L6bukqBQ/2Cx0sFsOApvYAm/noCiPzg=', 'Kotka', 'ZdUyLgtBUxFdUJjjCPdDO3GCVhNrqpxf0g//V+uVnmo=', 'iyes+KHsKs4IySTHZOud3lEFGHkoT12Z6TqKpooyz/I=', None, None, None, datetime.datetime(2024, 4, 9, 12, 12, 54, tzinfo=pytz.FixedOffset(180)), datetime.datetime(2024, 4, 11, 13, 47, 16, tzinfo=pytz.FixedOffset(180)), datetime.datetime(2024, 4, 11, 13, 47, 16, tzinfo=pytz.FixedOffset(180)), datetime.datetime(2024, 4, 11, 10, 46, 45, 436000, tzinfo=pytz.FixedOffset(180)), datetime.datetime(2024, 4, 11, 18, 23, 37, 514000, tzinfo=pytz.FixedOffset(180)), datetime.date(2024, 4, 10), datetime.datetime(2024, 4, 12, 5, 23, 7, 311000, tzinfo=pytz.FixedOffset(180)), datetime.datetime(2024, 4, 14, 10, 56, 16, 448000, tzinfo=pytz.FixedOffset(180)), datetime.datetime(2024, 4, 11, 11, 4, 14, 541000, tzinfo=<UTC>), 'Matkahuolto Lähellä-paketti (noutopiste)', 'Matkahuolto', 'COMPLETED', 'COMPLETED', '6203', Decimal('5.028000'), '373325385022098237', Decimal('30.080000'), None, None, None, 'web', '57ed785b-9c89-498d-a3e5-40720b0b6740', 'fi', Decimal('0.070606'), Decimal('0.071146'), Decimal('0.000000'), Decimal('0.000000'), Decimal('0.000000'), Decimal('0.000000'), Decimal('-0.359095'), Decimal('-0.243679'), Decimal('-0.013678'), Decimal('-0.020016'), Decimal('-0.001374'), Decimal('-0.071146'), Decimal('-0.018690'), Decimal('0.000000'), 0, 0, None, None, None, None, None, None, None, Decimal('2.100000'), Decimal('1.840000'), Decimal('1.840000'), Decimal('2.100000'), None, Decimal('1.120000'), Decimal('0.392322'), Decimal('2.000000'), 5)\n",
            "(13861720, 'europe-north1', 'FI', 'FI', 1446447, 417, None, 4, 1, 54044, '54044', 17486, '12kpl Puls Energy Shot Apple energiashotti 60ml', None, datetime.date(2024, 10, 31), Decimal('15.900000'), Decimal('20.280000'), Decimal('-6.000000'), None, '[FI] Standard pricing', 'procurement campaign', Decimal('1.000000'), Decimal('0.140000'), Decimal('-6.000000'), Decimal('13.950000'), Decimal('15.900000'), 'VgSrlb5Wbd6x7AhlpYjcOeNYft3Tqb+KNW20z5q3gHQ=', 'kO9E1tv00w7gd/cWzWg7bUyzM2tawXCwUuqd82G236w=', '5MFUT9JB8Rqx8cqlb3DY0y+MSY29NYGiLbaPtOXQ0+M=', 'iyes+KHsKs4IySTHZOud3lEFGHkoT12Z6TqKpooyz/I=', 'hi5uvsPZBBHwgq3dmkGE3ewm+kFlyqbIbrTaWONa5WY=', '92400', '', 'FI', '/I/Znv2oM1Xxqs1GDgWOfGUbG/g1W9Rqs2Yd5ex9eBo=', 'Ruukki', False, 'VgSrlb5Wbd6x7AhlpYjcOeNYft3Tqb+KNW20z5q3gHQ=', 'kO9E1tv00w7gd/cWzWg7bUyzM2tawXCwUuqd82G236w=', '5MFUT9JB8Rqx8cqlb3DY0y+MSY29NYGiLbaPtOXQ0+M=', '92400', 'hi5uvsPZBBHwgq3dmkGE3ewm+kFlyqbIbrTaWONa5WY=', 'Ruukki', '/I/Znv2oM1Xxqs1GDgWOfGUbG/g1W9Rqs2Yd5ex9eBo=', 'iyes+KHsKs4IySTHZOud3lEFGHkoT12Z6TqKpooyz/I=', None, None, None, datetime.datetime(2024, 3, 18, 13, 39, 50, tzinfo=pytz.FixedOffset(120)), datetime.datetime(2024, 3, 19, 17, 6, 27, tzinfo=pytz.FixedOffset(120)), datetime.datetime(2024, 3, 19, 17, 6, 27, tzinfo=pytz.FixedOffset(120)), datetime.datetime(2024, 3, 19, 15, 7, 45, 459000, tzinfo=pytz.FixedOffset(120)), datetime.datetime(2024, 3, 20, 14, 39, 19, 472000, tzinfo=pytz.FixedOffset(120)), datetime.date(2024, 3, 19), datetime.datetime(2024, 3, 21, 11, 7, 19, 707000, tzinfo=pytz.FixedOffset(120)), datetime.datetime(2024, 3, 21, 11, 7, 19, 707000, tzinfo=pytz.FixedOffset(120)), datetime.datetime(2024, 3, 19, 16, 3, 51, 514000, tzinfo=<UTC>), 'Matkahuolto Lähellä-paketti (noutopiste)', 'Matkahuolto', 'COMPLETED', 'COMPLETED', '799', Decimal('9.497000'), '373325384981865508', Decimal('71.560000'), None, None, None, 'web', '281f94ed-9b74-46f8-a440-d20e884f6f0f', 'fi', Decimal('0.223701'), Decimal('0.199800'), Decimal('0.000000'), Decimal('0.000000'), Decimal('0.000000'), Decimal('0.000000'), Decimal('-0.322805'), Decimal('-0.800047'), Decimal('-0.090810'), Decimal('-0.183576'), Decimal('-0.012077'), Decimal('-0.209790'), Decimal('-0.141510'), Decimal('0.000000'), 0, 0, None, None, None, None, None, None, None, Decimal('15.900000'), Decimal('13.950000'), Decimal('13.950000'), Decimal('15.900000'), None, Decimal('7.950000'), Decimal('6.189385'), Decimal('2.000000'), None)\n",
            "(13862888, 'europe-north1', 'FI', 'FI', 1446571, 418, None, 4, 1, 29570, '29570', 25010, '32kpl - Finish Classic konetiskitabletti', None, None, Decimal('0.000000'), Decimal('5.950000'), Decimal('-2.100000'), None, '[FI] Offer pricing', 'marketing campaign', Decimal('1.000000'), Decimal('0.240000'), Decimal('-2.100000'), Decimal('0.000000'), Decimal('0.000000'), 'ggmcSkpciDlPweqzLuKcRUMFIblzO7qNI+EZH88Q4qU=', 'kdoZOjmZ5FlNtaqtRSLQELtTG1IA2I+izB9I1b4DNNE=', 'M8LcOImxNNaOdwI9rNAX2O2bPBwtOLnbUOpLXho/MSo=', 'iyes+KHsKs4IySTHZOud3lEFGHkoT12Z6TqKpooyz/I=', 'Afyd9nAW675RUmvroj6WYBIBjT5srpD7cNKQei9MC0A=', '80140', '', 'FI', 'woGhiECek4X6aQ4G+1AF0s1v2rkQeIjHauNsId5lrFs=', 'Joensuu', False, 'ggmcSkpciDlPweqzLuKcRUMFIblzO7qNI+EZH88Q4qU=', 'kdoZOjmZ5FlNtaqtRSLQELtTG1IA2I+izB9I1b4DNNE=', 'M8LcOImxNNaOdwI9rNAX2O2bPBwtOLnbUOpLXho/MSo=', '80140', 'Afyd9nAW675RUmvroj6WYBIBjT5srpD7cNKQei9MC0A=', 'Joensuu', 'woGhiECek4X6aQ4G+1AF0s1v2rkQeIjHauNsId5lrFs=', 'iyes+KHsKs4IySTHZOud3lEFGHkoT12Z6TqKpooyz/I=', None, None, None, datetime.datetime(2024, 3, 18, 16, 8, 3, tzinfo=pytz.FixedOffset(120)), datetime.datetime(2024, 3, 20, 14, 16, 8, tzinfo=pytz.FixedOffset(120)), datetime.datetime(2024, 3, 20, 14, 16, 8, tzinfo=pytz.FixedOffset(120)), datetime.datetime(2024, 3, 20, 12, 16, 45, 492000, tzinfo=pytz.FixedOffset(120)), datetime.datetime(2024, 3, 20, 18, 53, 21, 696000, tzinfo=pytz.FixedOffset(120)), datetime.date(2024, 3, 20), datetime.datetime(2024, 3, 21, 8, 18, 0, 449000, tzinfo=pytz.FixedOffset(120)), datetime.datetime(2024, 3, 21, 12, 52, 29, 291000, tzinfo=pytz.FixedOffset(120)), datetime.datetime(2024, 3, 20, 13, 3, 51, 476000, tzinfo=<UTC>), 'Matkahuolto Lähellä-paketti (noutopiste)', 'Matkahuolto', 'COMPLETED', 'COMPLETED', '8404', Decimal('15.700000'), '373325384983814740', Decimal('39.380000'), None, None, None, 'web', '2fc510f4-3617-411a-8981-141dd492471f', 'fi', Decimal('0.000000'), Decimal('0.131250'), Decimal('0.000000'), Decimal('0.000000'), Decimal('0.000000'), Decimal('0.000000'), Decimal('-0.336040'), Decimal('0.000000'), Decimal('-0.031783'), Decimal('-0.064252'), Decimal('-0.004227'), Decimal('-0.137813'), Decimal('0.000000'), Decimal('0.000000'), 0, 0, None, None, None, None, None, None, None, Decimal('0.000000'), Decimal('0.000000'), Decimal('0.000000'), Decimal('0.000000'), None, Decimal('-2.100000'), Decimal('-2.674115'), Decimal('1.000000'), None)\n",
            "(13862891, 'europe-north1', 'FI', 'FI', 1446571, 417, None, 4, 1, 29570, '29570', 27748, 'Linkosuo x Poppamies Chili & Cheese Snack ruissipsi 120g', None, datetime.date(2024, 4, 2), Decimal('0.800000'), Decimal('2.350000'), Decimal('-0.210000'), None, '[FI] Standard pricing', 'procurement campaign', Decimal('2.000000'), Decimal('0.140000'), Decimal('-0.420000'), Decimal('1.400000'), Decimal('1.600000'), 'ggmcSkpciDlPweqzLuKcRUMFIblzO7qNI+EZH88Q4qU=', 'kdoZOjmZ5FlNtaqtRSLQELtTG1IA2I+izB9I1b4DNNE=', 'M8LcOImxNNaOdwI9rNAX2O2bPBwtOLnbUOpLXho/MSo=', 'iyes+KHsKs4IySTHZOud3lEFGHkoT12Z6TqKpooyz/I=', 'Afyd9nAW675RUmvroj6WYBIBjT5srpD7cNKQei9MC0A=', '80140', '', 'FI', 'woGhiECek4X6aQ4G+1AF0s1v2rkQeIjHauNsId5lrFs=', 'Joensuu', False, 'ggmcSkpciDlPweqzLuKcRUMFIblzO7qNI+EZH88Q4qU=', 'kdoZOjmZ5FlNtaqtRSLQELtTG1IA2I+izB9I1b4DNNE=', 'M8LcOImxNNaOdwI9rNAX2O2bPBwtOLnbUOpLXho/MSo=', '80140', 'Afyd9nAW675RUmvroj6WYBIBjT5srpD7cNKQei9MC0A=', 'Joensuu', 'woGhiECek4X6aQ4G+1AF0s1v2rkQeIjHauNsId5lrFs=', 'iyes+KHsKs4IySTHZOud3lEFGHkoT12Z6TqKpooyz/I=', None, None, None, datetime.datetime(2024, 3, 18, 16, 8, 3, tzinfo=pytz.FixedOffset(120)), datetime.datetime(2024, 3, 20, 14, 16, 8, tzinfo=pytz.FixedOffset(120)), datetime.datetime(2024, 3, 20, 14, 16, 8, tzinfo=pytz.FixedOffset(120)), datetime.datetime(2024, 3, 20, 12, 16, 45, 492000, tzinfo=pytz.FixedOffset(120)), datetime.datetime(2024, 3, 20, 18, 53, 21, 696000, tzinfo=pytz.FixedOffset(120)), datetime.date(2024, 3, 20), datetime.datetime(2024, 3, 21, 8, 18, 0, 449000, tzinfo=pytz.FixedOffset(120)), datetime.datetime(2024, 3, 21, 12, 52, 29, 291000, tzinfo=pytz.FixedOffset(120)), datetime.datetime(2024, 3, 20, 13, 3, 51, 476000, tzinfo=<UTC>), 'Matkahuolto Lähellä-paketti (noutopiste)', 'Matkahuolto', 'COMPLETED', 'COMPLETED', '8404', Decimal('15.700000'), '373325384983814740', Decimal('39.380000'), None, None, None, 'web', '2fc510f4-3617-411a-8981-141dd492471f', 'fi', Decimal('0.042360'), Decimal('0.026250'), Decimal('0.000000'), Decimal('0.000000'), Decimal('0.000000'), Decimal('0.000000'), Decimal('-0.336040'), Decimal('-0.151497'), Decimal('-0.006357'), Decimal('-0.012850'), Decimal('-0.000845'), Decimal('-0.027563'), Decimal('-0.014240'), Decimal('0.000000'), 0, 0, None, None, None, None, None, None, None, Decimal('1.600000'), Decimal('1.400000'), Decimal('1.400000'), Decimal('1.600000'), None, Decimal('0.980000'), Decimal('0.430608'), Decimal('1.000000'), None)\n",
            "(14042785, 'europe-north1', 'FI', 'FI', 1465009, 417, None, 5, 1, None, None, 24141, 'Boogie Kuminystyräpallo koiran köysilelu 27cm eri värejä', None, None, Decimal('4.790000'), Decimal('7.900000'), Decimal('-1.500000'), None, '[FI] Standard pricing', 'procurement campaign', Decimal('1.000000'), Decimal('0.240000'), Decimal('-1.500000'), Decimal('3.860000'), Decimal('4.790000'), '7XgF5zhCdy0PcV9uuATiljrdCcoHG1nf8ETW/cVlCWI=', '9MwAyTov8bFaesyu9rDis9tff5JpIIWxfmFm++/4KB4=', 'UtUqVb8ZfaLxSWFjenbrca0w2PaLY376dgSJDjyXZbQ=', 'iyes+KHsKs4IySTHZOud3lEFGHkoT12Z6TqKpooyz/I=', 'rfEgLpi1934WHaQlFqRtoLJgW/J1r01biY3zO2VFf28=', '92910', '', 'FI', 'MSK6FNUzkbkRW3UkJpZlquuSVJSKrScNoF2SLyB9mmE=', 'Tavastkenkä', False, '7XgF5zhCdy0PcV9uuATiljrdCcoHG1nf8ETW/cVlCWI=', '9MwAyTov8bFaesyu9rDis9tff5JpIIWxfmFm++/4KB4=', 'UtUqVb8ZfaLxSWFjenbrca0w2PaLY376dgSJDjyXZbQ=', '92910', 'rfEgLpi1934WHaQlFqRtoLJgW/J1r01biY3zO2VFf28=', 'Tavastkenkä', 'MSK6FNUzkbkRW3UkJpZlquuSVJSKrScNoF2SLyB9mmE=', 'iyes+KHsKs4IySTHZOud3lEFGHkoT12Z6TqKpooyz/I=', 'COUPON', 'SDXXGPZL8QK23', '322504', datetime.datetime(2024, 4, 11, 11, 6, 37, tzinfo=pytz.FixedOffset(180)), datetime.datetime(2024, 4, 12, 10, 57, 15, tzinfo=pytz.FixedOffset(180)), datetime.datetime(2024, 4, 12, 10, 57, 15, tzinfo=pytz.FixedOffset(180)), datetime.datetime(2024, 4, 12, 7, 49, 45, 556000, tzinfo=pytz.FixedOffset(180)), datetime.datetime(2024, 4, 12, 18, 39, 6, 130000, tzinfo=pytz.FixedOffset(180)), datetime.date(2024, 4, 12), datetime.datetime(2024, 4, 16, 11, 33, 26, 55000, tzinfo=pytz.FixedOffset(180)), datetime.datetime(2024, 4, 16, 11, 33, 26, 55000, tzinfo=pytz.FixedOffset(180)), datetime.datetime(2024, 4, 12, 8, 4, 18, 67000, tzinfo=<UTC>), 'Matkahuolto Jako-paketti (kotiinkuljetus)', 'Matkahuolto', 'COMPLETED', 'COMPLETED', None, Decimal('22.500000'), '373325385023706360,373325385023706377,373325385023706384', Decimal('173.900000'), None, None, None, 'web', 'dadf0099-d11a-415e-920f-a85507d02953', 'fi', Decimal('0.026041'), Decimal('0.020693'), Decimal('0.000000'), Decimal('0.000000'), Decimal('-0.065600'), Decimal('-0.078100'), Decimal('-0.286629'), Decimal('-0.523802'), Decimal('-0.028495'), Decimal('-0.041699'), Decimal('-0.002863'), Decimal('-0.020693'), Decimal('-0.041936'), Decimal('0.000000'), 0, 0, None, None, None, None, None, None, None, Decimal('4.711900'), Decimal('3.794400'), Decimal('3.794400'), Decimal('4.711900'), None, Decimal('2.360000'), Decimal('1.348283'), Decimal('4.000000'), None)\n",
            "(14034644, 'europe-north1', 'FI', 'FI', 1464109, 417, None, 4, 1, None, None, 23505, 'Puhdas+ Beauty Sleep Kollageeni & Melatoniini ravintolisä 60kaps/26g', None, datetime.date(2024, 5, 9), Decimal('3.990000'), Decimal('15.900000'), Decimal('-1.360000'), None, '[FI] Standard pricing', 'procurement campaign', Decimal('1.000000'), Decimal('0.140000'), Decimal('-1.360000'), Decimal('3.500000'), Decimal('3.990000'), '7WOX6OJJCt48l3ktmQORAcxqWoFa8I1up4W+GQVm2eM=', 'a7aetRatRAoa0PwuPdhdibJRCYJN2KYJUYXGXJ5odCw=', '2MSmNOR8R9C0qmqNfKWumt+cDv9tP1V7MW0yBf8M1Rs=', 'iyes+KHsKs4IySTHZOud3lEFGHkoT12Z6TqKpooyz/I=', 'UIwcO5x2Wv6GHcPtU1t2XwaYEDPRKyYVEerDPjZv+/A=', '53650', '', 'FI', 'yxFAJHt1Xwk4VMSuVn1/pYRRBieLeScjrBnIb5PTbEE=', 'Lappeenranta', False, '7WOX6OJJCt48l3ktmQORAcxqWoFa8I1up4W+GQVm2eM=', 'a7aetRatRAoa0PwuPdhdibJRCYJN2KYJUYXGXJ5odCw=', '2MSmNOR8R9C0qmqNfKWumt+cDv9tP1V7MW0yBf8M1Rs=', '53650', 'UIwcO5x2Wv6GHcPtU1t2XwaYEDPRKyYVEerDPjZv+/A=', 'Lappeenranta', 'yxFAJHt1Xwk4VMSuVn1/pYRRBieLeScjrBnIb5PTbEE=', 'iyes+KHsKs4IySTHZOud3lEFGHkoT12Z6TqKpooyz/I=', None, None, None, datetime.datetime(2024, 4, 10, 7, 50, 44, tzinfo=pytz.FixedOffset(180)), datetime.datetime(2024, 4, 11, 13, 17, 26, tzinfo=pytz.FixedOffset(180)), datetime.datetime(2024, 4, 11, 13, 17, 26, tzinfo=pytz.FixedOffset(180)), datetime.datetime(2024, 4, 11, 10, 17, 45, 388000, tzinfo=pytz.FixedOffset(180)), datetime.datetime(2024, 4, 11, 22, 7, 5, 633000, tzinfo=pytz.FixedOffset(180)), datetime.date(2024, 4, 11), datetime.datetime(2024, 4, 12, 5, 3, 21, 208000, tzinfo=pytz.FixedOffset(180)), None, datetime.datetime(2024, 4, 11, 11, 4, 14, 434000, tzinfo=<UTC>), 'Matkahuolto Lähellä-paketti (noutopiste)', 'Matkahuolto', 'COMPLETED', 'COMPLETED', '8981', Decimal('9.256000'), '373325385022018938', Decimal('71.240000'), None, None, None, 'web', '88a32c3f-676b-40b8-bd14-40decd509374', 'fi', Decimal('0.057143'), Decimal('0.046353'), Decimal('0.000000'), Decimal('0.000000'), Decimal('0.000000'), Decimal('0.000000'), Decimal('-0.315047'), Decimal('-0.197215'), Decimal('-0.025836'), Decimal('-0.037808'), Decimal('-0.002596'), Decimal('-0.046353'), Decimal('-0.035511'), Decimal('0.000000'), 0, 0, None, None, None, None, None, None, None, Decimal('3.990000'), Decimal('3.500000'), Decimal('3.500000'), Decimal('3.990000'), None, Decimal('2.140000'), Decimal('1.479635'), Decimal('1.000000'), None)\n",
            "(13811090, 'europe-north1', 'FI', 'FI', 1441249, 417, None, 11, 1, 185868, 'kWwnKiIPe3fbQZStJ9nmul4HPnU2', 1738, 'Hartwall Jaffa Ananas virvoitusjuoma sokeriton 1,5l', None, datetime.date(2024, 4, 2), Decimal('2.250000'), Decimal('2.950000'), Decimal('-1.050000'), None, '[FI] Standard pricing', 'procurement campaign', Decimal('4.000000'), Decimal('0.140000'), Decimal('-4.200000'), Decimal('7.890000'), Decimal('9.000000'), 'wYjACm9j7feSmkw7pVWPfZaCYx8MFWAE6JGJ//n85yI=', 'NMCz3ZiOiFSxooQ/dykbm/Bedio5F9kyQ1D0oW0NLHs=', 'fR4VoMkfGdabDQwaEydzmnG9A8FKMq+wy5SOspP37nI=', 'iyes+KHsKs4IySTHZOud3lEFGHkoT12Z6TqKpooyz/I=', 'ovWu4GIhCJ3fzsLpMVOXYps6tbZ9ANEwH2AwM4wrieY=', '91500', '', 'FI', 'AusKEfWidBxlkBf9Dn87H5Hm10RmCA8wU2Z3wA4u/Mk=', 'Muhos', False, 'wYjACm9j7feSmkw7pVWPfZaCYx8MFWAE6JGJ//n85yI=', 'NMCz3ZiOiFSxooQ/dykbm/Bedio5F9kyQ1D0oW0NLHs=', 'fR4VoMkfGdabDQwaEydzmnG9A8FKMq+wy5SOspP37nI=', '91500', 'ovWu4GIhCJ3fzsLpMVOXYps6tbZ9ANEwH2AwM4wrieY=', 'Muhos', 'AusKEfWidBxlkBf9Dn87H5Hm10RmCA8wU2Z3wA4u/Mk=', 'iyes+KHsKs4IySTHZOud3lEFGHkoT12Z6TqKpooyz/I=', None, None, None, datetime.datetime(2024, 3, 12, 20, 5, 49, tzinfo=pytz.FixedOffset(120)), datetime.datetime(2024, 3, 13, 10, 17, 9, tzinfo=pytz.FixedOffset(120)), datetime.datetime(2024, 3, 13, 10, 17, 9, tzinfo=pytz.FixedOffset(120)), datetime.datetime(2024, 3, 13, 10, 17, 24, tzinfo=pytz.FixedOffset(120)), None, datetime.date(2024, 3, 14), datetime.datetime(2024, 3, 15, 14, 13, 35, tzinfo=pytz.FixedOffset(120)), datetime.datetime(2024, 3, 16, 18, 55, 44, tzinfo=pytz.FixedOffset(120)), datetime.datetime(2024, 3, 13, 9, 6, 40, 100000, tzinfo=<UTC>), 'Postin toimitus postiin tai automaattiin', 'Posti', 'COMPLETED', 'COMPLETED', '915043202', Decimal('15.929000'), 'JJFI65287010059724989', Decimal('54.080000'), None, None, None, 'web', '0d150363-b9bd-424c-9c7e-48fe20d4a47c', 'fi', Decimal('0.177583'), Decimal('0.166998'), Decimal('0.000000'), Decimal('0.000000'), Decimal('0.000000'), Decimal('0.000000'), Decimal('-0.366040'), Decimal('-1.105880'), Decimal('-0.063567'), Decimal('-0.128503'), Decimal('-0.008454'), Decimal('-0.175348'), Decimal('-0.080100'), Decimal('0.000000'), 0, 0, Decimal('0.400000'), Decimal('-0.322581'), Decimal('1.000000'), Decimal('4.000000'), Decimal('-1.290323'), Decimal('1.600000'), Decimal('1.290323'), Decimal('9.000000'), Decimal('7.890000'), Decimal('7.890000'), Decimal('9.000000'), None, Decimal('3.690000'), Decimal('1.762107'), Decimal('1.000000'), None)\n"
          ]
        }
      ]
    },
    {
      "cell_type": "markdown",
      "source": [
        "Example of a query executed in BigQuery"
      ],
      "metadata": {
        "id": "QNDyyflIMpME"
      }
    },
    {
      "cell_type": "code",
      "source": [
        "query = \"\"\"\n",
        "    SELECT\n",
        "      *\n",
        "    FROM `bigquery-public-data.usa_names.usa_1910_2013`\n",
        "    LIMIT 10\n",
        "\"\"\"\n",
        "\n",
        "# Execute the query and convert the results to a DataFrame\n",
        "df = client.query(query).to_dataframe()\n",
        "\n",
        "# Display the DataFrame\n",
        "df.head()"
      ],
      "metadata": {
        "colab": {
          "base_uri": "https://localhost:8080/",
          "height": 436
        },
        "id": "JndvtIJeMoER",
        "outputId": "ed129a68-fd61-4dc4-a0c3-e4f7337d99ba"
      },
      "execution_count": null,
      "outputs": [
        {
          "output_type": "error",
          "ename": "NotFound",
          "evalue": "404 POST https://bigquery.googleapis.com/bigquery/v2/projects//jobs?prettyPrint=false: Request couldn't be served.\n\nLocation: None\nJob ID: 27e325b6-bf01-4137-bde1-5cd043da58db\n",
          "traceback": [
            "\u001b[0;31m---------------------------------------------------------------------------\u001b[0m",
            "\u001b[0;31mNotFound\u001b[0m                                  Traceback (most recent call last)",
            "\u001b[0;32m<ipython-input-34-bde93890c6d4>\u001b[0m in \u001b[0;36m<cell line: 9>\u001b[0;34m()\u001b[0m\n\u001b[1;32m      7\u001b[0m \u001b[0;34m\u001b[0m\u001b[0m\n\u001b[1;32m      8\u001b[0m \u001b[0;31m# Execute the query and convert the results to a DataFrame\u001b[0m\u001b[0;34m\u001b[0m\u001b[0;34m\u001b[0m\u001b[0m\n\u001b[0;32m----> 9\u001b[0;31m \u001b[0mdf\u001b[0m \u001b[0;34m=\u001b[0m \u001b[0mclient\u001b[0m\u001b[0;34m.\u001b[0m\u001b[0mquery\u001b[0m\u001b[0;34m(\u001b[0m\u001b[0mquery\u001b[0m\u001b[0;34m)\u001b[0m\u001b[0;34m.\u001b[0m\u001b[0mto_dataframe\u001b[0m\u001b[0;34m(\u001b[0m\u001b[0;34m)\u001b[0m\u001b[0;34m\u001b[0m\u001b[0;34m\u001b[0m\u001b[0m\n\u001b[0m\u001b[1;32m     10\u001b[0m \u001b[0;34m\u001b[0m\u001b[0m\n\u001b[1;32m     11\u001b[0m \u001b[0;31m# Display the DataFrame\u001b[0m\u001b[0;34m\u001b[0m\u001b[0;34m\u001b[0m\u001b[0m\n",
            "\u001b[0;32m/usr/local/lib/python3.10/dist-packages/google/cloud/bigquery/client.py\u001b[0m in \u001b[0;36mquery\u001b[0;34m(self, query, job_config, job_id, job_id_prefix, location, project, retry, timeout, job_retry, api_method)\u001b[0m\n\u001b[1;32m   3481\u001b[0m             )\n\u001b[1;32m   3482\u001b[0m         \u001b[0;32melif\u001b[0m \u001b[0mapi_method\u001b[0m \u001b[0;34m==\u001b[0m \u001b[0menums\u001b[0m\u001b[0;34m.\u001b[0m\u001b[0mQueryApiMethod\u001b[0m\u001b[0;34m.\u001b[0m\u001b[0mINSERT\u001b[0m\u001b[0;34m:\u001b[0m\u001b[0;34m\u001b[0m\u001b[0;34m\u001b[0m\u001b[0m\n\u001b[0;32m-> 3483\u001b[0;31m             return _job_helpers.query_jobs_insert(\n\u001b[0m\u001b[1;32m   3484\u001b[0m                 \u001b[0mself\u001b[0m\u001b[0;34m,\u001b[0m\u001b[0;34m\u001b[0m\u001b[0;34m\u001b[0m\u001b[0m\n\u001b[1;32m   3485\u001b[0m                 \u001b[0mquery\u001b[0m\u001b[0;34m,\u001b[0m\u001b[0;34m\u001b[0m\u001b[0;34m\u001b[0m\u001b[0m\n",
            "\u001b[0;32m/usr/local/lib/python3.10/dist-packages/google/cloud/bigquery/_job_helpers.py\u001b[0m in \u001b[0;36mquery_jobs_insert\u001b[0;34m(client, query, job_config, job_id, job_id_prefix, location, project, retry, timeout, job_retry)\u001b[0m\n\u001b[1;32m    156\u001b[0m             \u001b[0;32mreturn\u001b[0m \u001b[0mquery_job\u001b[0m\u001b[0;34m\u001b[0m\u001b[0;34m\u001b[0m\u001b[0m\n\u001b[1;32m    157\u001b[0m \u001b[0;34m\u001b[0m\u001b[0m\n\u001b[0;32m--> 158\u001b[0;31m     \u001b[0mfuture\u001b[0m \u001b[0;34m=\u001b[0m \u001b[0mdo_query\u001b[0m\u001b[0;34m(\u001b[0m\u001b[0;34m)\u001b[0m\u001b[0;34m\u001b[0m\u001b[0;34m\u001b[0m\u001b[0m\n\u001b[0m\u001b[1;32m    159\u001b[0m     \u001b[0;31m# The future might be in a failed state now, but if it's\u001b[0m\u001b[0;34m\u001b[0m\u001b[0;34m\u001b[0m\u001b[0m\n\u001b[1;32m    160\u001b[0m     \u001b[0;31m# unrecoverable, we'll find out when we ask for it's result, at which\u001b[0m\u001b[0;34m\u001b[0m\u001b[0;34m\u001b[0m\u001b[0m\n",
            "\u001b[0;32m/usr/local/lib/python3.10/dist-packages/google/cloud/bigquery/_job_helpers.py\u001b[0m in \u001b[0;36mdo_query\u001b[0;34m()\u001b[0m\n\u001b[1;32m    133\u001b[0m \u001b[0;34m\u001b[0m\u001b[0m\n\u001b[1;32m    134\u001b[0m         \u001b[0;32mtry\u001b[0m\u001b[0;34m:\u001b[0m\u001b[0;34m\u001b[0m\u001b[0;34m\u001b[0m\u001b[0m\n\u001b[0;32m--> 135\u001b[0;31m             \u001b[0mquery_job\u001b[0m\u001b[0;34m.\u001b[0m\u001b[0m_begin\u001b[0m\u001b[0;34m(\u001b[0m\u001b[0mretry\u001b[0m\u001b[0;34m=\u001b[0m\u001b[0mretry\u001b[0m\u001b[0;34m,\u001b[0m \u001b[0mtimeout\u001b[0m\u001b[0;34m=\u001b[0m\u001b[0mtimeout\u001b[0m\u001b[0;34m)\u001b[0m\u001b[0;34m\u001b[0m\u001b[0;34m\u001b[0m\u001b[0m\n\u001b[0m\u001b[1;32m    136\u001b[0m         \u001b[0;32mexcept\u001b[0m \u001b[0mcore_exceptions\u001b[0m\u001b[0;34m.\u001b[0m\u001b[0mConflict\u001b[0m \u001b[0;32mas\u001b[0m \u001b[0mcreate_exc\u001b[0m\u001b[0;34m:\u001b[0m\u001b[0;34m\u001b[0m\u001b[0;34m\u001b[0m\u001b[0m\n\u001b[1;32m    137\u001b[0m             \u001b[0;31m# The thought is if someone is providing their own job IDs and they get\u001b[0m\u001b[0;34m\u001b[0m\u001b[0;34m\u001b[0m\u001b[0m\n",
            "\u001b[0;32m/usr/local/lib/python3.10/dist-packages/google/cloud/bigquery/job/query.py\u001b[0m in \u001b[0;36m_begin\u001b[0;34m(self, client, retry, timeout)\u001b[0m\n\u001b[1;32m   1372\u001b[0m \u001b[0;34m\u001b[0m\u001b[0m\n\u001b[1;32m   1373\u001b[0m         \u001b[0;32mtry\u001b[0m\u001b[0;34m:\u001b[0m\u001b[0;34m\u001b[0m\u001b[0;34m\u001b[0m\u001b[0m\n\u001b[0;32m-> 1374\u001b[0;31m             \u001b[0msuper\u001b[0m\u001b[0;34m(\u001b[0m\u001b[0mQueryJob\u001b[0m\u001b[0;34m,\u001b[0m \u001b[0mself\u001b[0m\u001b[0;34m)\u001b[0m\u001b[0;34m.\u001b[0m\u001b[0m_begin\u001b[0m\u001b[0;34m(\u001b[0m\u001b[0mclient\u001b[0m\u001b[0;34m=\u001b[0m\u001b[0mclient\u001b[0m\u001b[0;34m,\u001b[0m \u001b[0mretry\u001b[0m\u001b[0;34m=\u001b[0m\u001b[0mretry\u001b[0m\u001b[0;34m,\u001b[0m \u001b[0mtimeout\u001b[0m\u001b[0;34m=\u001b[0m\u001b[0mtimeout\u001b[0m\u001b[0;34m)\u001b[0m\u001b[0;34m\u001b[0m\u001b[0;34m\u001b[0m\u001b[0m\n\u001b[0m\u001b[1;32m   1375\u001b[0m         \u001b[0;32mexcept\u001b[0m \u001b[0mexceptions\u001b[0m\u001b[0;34m.\u001b[0m\u001b[0mGoogleAPICallError\u001b[0m \u001b[0;32mas\u001b[0m \u001b[0mexc\u001b[0m\u001b[0;34m:\u001b[0m\u001b[0;34m\u001b[0m\u001b[0;34m\u001b[0m\u001b[0m\n\u001b[1;32m   1376\u001b[0m             exc.message = _EXCEPTION_FOOTER_TEMPLATE.format(\n",
            "\u001b[0;32m/usr/local/lib/python3.10/dist-packages/google/cloud/bigquery/job/base.py\u001b[0m in \u001b[0;36m_begin\u001b[0;34m(self, client, retry, timeout)\u001b[0m\n\u001b[1;32m    738\u001b[0m         \u001b[0;31m# job has an ID.\u001b[0m\u001b[0;34m\u001b[0m\u001b[0;34m\u001b[0m\u001b[0m\n\u001b[1;32m    739\u001b[0m         \u001b[0mspan_attributes\u001b[0m \u001b[0;34m=\u001b[0m \u001b[0;34m{\u001b[0m\u001b[0;34m\"path\"\u001b[0m\u001b[0;34m:\u001b[0m \u001b[0mpath\u001b[0m\u001b[0;34m}\u001b[0m\u001b[0;34m\u001b[0m\u001b[0;34m\u001b[0m\u001b[0m\n\u001b[0;32m--> 740\u001b[0;31m         api_response = client._call_api(\n\u001b[0m\u001b[1;32m    741\u001b[0m             \u001b[0mretry\u001b[0m\u001b[0;34m,\u001b[0m\u001b[0;34m\u001b[0m\u001b[0;34m\u001b[0m\u001b[0m\n\u001b[1;32m    742\u001b[0m             \u001b[0mspan_name\u001b[0m\u001b[0;34m=\u001b[0m\u001b[0;34m\"BigQuery.job.begin\"\u001b[0m\u001b[0;34m,\u001b[0m\u001b[0;34m\u001b[0m\u001b[0;34m\u001b[0m\u001b[0m\n",
            "\u001b[0;32m/usr/local/lib/python3.10/dist-packages/google/cloud/bigquery/client.py\u001b[0m in \u001b[0;36m_call_api\u001b[0;34m(self, retry, span_name, span_attributes, job_ref, headers, **kwargs)\u001b[0m\n\u001b[1;32m    829\u001b[0m                 \u001b[0mname\u001b[0m\u001b[0;34m=\u001b[0m\u001b[0mspan_name\u001b[0m\u001b[0;34m,\u001b[0m \u001b[0mattributes\u001b[0m\u001b[0;34m=\u001b[0m\u001b[0mspan_attributes\u001b[0m\u001b[0;34m,\u001b[0m \u001b[0mclient\u001b[0m\u001b[0;34m=\u001b[0m\u001b[0mself\u001b[0m\u001b[0;34m,\u001b[0m \u001b[0mjob_ref\u001b[0m\u001b[0;34m=\u001b[0m\u001b[0mjob_ref\u001b[0m\u001b[0;34m\u001b[0m\u001b[0;34m\u001b[0m\u001b[0m\n\u001b[1;32m    830\u001b[0m             ):\n\u001b[0;32m--> 831\u001b[0;31m                 \u001b[0;32mreturn\u001b[0m \u001b[0mcall\u001b[0m\u001b[0;34m(\u001b[0m\u001b[0;34m)\u001b[0m\u001b[0;34m\u001b[0m\u001b[0;34m\u001b[0m\u001b[0m\n\u001b[0m\u001b[1;32m    832\u001b[0m \u001b[0;34m\u001b[0m\u001b[0m\n\u001b[1;32m    833\u001b[0m         \u001b[0;32mreturn\u001b[0m \u001b[0mcall\u001b[0m\u001b[0;34m(\u001b[0m\u001b[0;34m)\u001b[0m\u001b[0;34m\u001b[0m\u001b[0;34m\u001b[0m\u001b[0m\n",
            "\u001b[0;32m/usr/local/lib/python3.10/dist-packages/google/api_core/retry.py\u001b[0m in \u001b[0;36mretry_wrapped_func\u001b[0;34m(*args, **kwargs)\u001b[0m\n\u001b[1;32m    347\u001b[0m                 \u001b[0mself\u001b[0m\u001b[0;34m.\u001b[0m\u001b[0m_initial\u001b[0m\u001b[0;34m,\u001b[0m \u001b[0mself\u001b[0m\u001b[0;34m.\u001b[0m\u001b[0m_maximum\u001b[0m\u001b[0;34m,\u001b[0m \u001b[0mmultiplier\u001b[0m\u001b[0;34m=\u001b[0m\u001b[0mself\u001b[0m\u001b[0;34m.\u001b[0m\u001b[0m_multiplier\u001b[0m\u001b[0;34m\u001b[0m\u001b[0;34m\u001b[0m\u001b[0m\n\u001b[1;32m    348\u001b[0m             )\n\u001b[0;32m--> 349\u001b[0;31m             return retry_target(\n\u001b[0m\u001b[1;32m    350\u001b[0m                 \u001b[0mtarget\u001b[0m\u001b[0;34m,\u001b[0m\u001b[0;34m\u001b[0m\u001b[0;34m\u001b[0m\u001b[0m\n\u001b[1;32m    351\u001b[0m                 \u001b[0mself\u001b[0m\u001b[0;34m.\u001b[0m\u001b[0m_predicate\u001b[0m\u001b[0;34m,\u001b[0m\u001b[0;34m\u001b[0m\u001b[0;34m\u001b[0m\u001b[0m\n",
            "\u001b[0;32m/usr/local/lib/python3.10/dist-packages/google/api_core/retry.py\u001b[0m in \u001b[0;36mretry_target\u001b[0;34m(target, predicate, sleep_generator, timeout, on_error, **kwargs)\u001b[0m\n\u001b[1;32m    189\u001b[0m     \u001b[0;32mfor\u001b[0m \u001b[0msleep\u001b[0m \u001b[0;32min\u001b[0m \u001b[0msleep_generator\u001b[0m\u001b[0;34m:\u001b[0m\u001b[0;34m\u001b[0m\u001b[0;34m\u001b[0m\u001b[0m\n\u001b[1;32m    190\u001b[0m         \u001b[0;32mtry\u001b[0m\u001b[0;34m:\u001b[0m\u001b[0;34m\u001b[0m\u001b[0;34m\u001b[0m\u001b[0m\n\u001b[0;32m--> 191\u001b[0;31m             \u001b[0;32mreturn\u001b[0m \u001b[0mtarget\u001b[0m\u001b[0;34m(\u001b[0m\u001b[0;34m)\u001b[0m\u001b[0;34m\u001b[0m\u001b[0;34m\u001b[0m\u001b[0m\n\u001b[0m\u001b[1;32m    192\u001b[0m \u001b[0;34m\u001b[0m\u001b[0m\n\u001b[1;32m    193\u001b[0m         \u001b[0;31m# pylint: disable=broad-except\u001b[0m\u001b[0;34m\u001b[0m\u001b[0;34m\u001b[0m\u001b[0m\n",
            "\u001b[0;32m/usr/local/lib/python3.10/dist-packages/google/cloud/_http/__init__.py\u001b[0m in \u001b[0;36mapi_request\u001b[0;34m(self, method, path, query_params, data, content_type, headers, api_base_url, api_version, expect_json, _target_object, timeout, extra_api_info)\u001b[0m\n\u001b[1;32m    492\u001b[0m \u001b[0;34m\u001b[0m\u001b[0m\n\u001b[1;32m    493\u001b[0m         \u001b[0;32mif\u001b[0m \u001b[0;32mnot\u001b[0m \u001b[0;36m200\u001b[0m \u001b[0;34m<=\u001b[0m \u001b[0mresponse\u001b[0m\u001b[0;34m.\u001b[0m\u001b[0mstatus_code\u001b[0m \u001b[0;34m<\u001b[0m \u001b[0;36m300\u001b[0m\u001b[0;34m:\u001b[0m\u001b[0;34m\u001b[0m\u001b[0;34m\u001b[0m\u001b[0m\n\u001b[0;32m--> 494\u001b[0;31m             \u001b[0;32mraise\u001b[0m \u001b[0mexceptions\u001b[0m\u001b[0;34m.\u001b[0m\u001b[0mfrom_http_response\u001b[0m\u001b[0;34m(\u001b[0m\u001b[0mresponse\u001b[0m\u001b[0;34m)\u001b[0m\u001b[0;34m\u001b[0m\u001b[0;34m\u001b[0m\u001b[0m\n\u001b[0m\u001b[1;32m    495\u001b[0m \u001b[0;34m\u001b[0m\u001b[0m\n\u001b[1;32m    496\u001b[0m         \u001b[0;32mif\u001b[0m \u001b[0mexpect_json\u001b[0m \u001b[0;32mand\u001b[0m \u001b[0mresponse\u001b[0m\u001b[0;34m.\u001b[0m\u001b[0mcontent\u001b[0m\u001b[0;34m:\u001b[0m\u001b[0;34m\u001b[0m\u001b[0;34m\u001b[0m\u001b[0m\n",
            "\u001b[0;31mNotFound\u001b[0m: 404 POST https://bigquery.googleapis.com/bigquery/v2/projects//jobs?prettyPrint=false: Request couldn't be served.\n\nLocation: None\nJob ID: 27e325b6-bf01-4137-bde1-5cd043da58db\n"
          ]
        }
      ]
    },
    {
      "cell_type": "markdown",
      "source": [
        "# Data extract from Snowflake\n",
        "\n",
        "The query is a bit long due to the needs of differents table to be connected. In that case we are using a script to get all at the same place."
      ],
      "metadata": {
        "id": "hxUq8Q1G7rSX"
      }
    },
    {
      "cell_type": "code",
      "execution_count": null,
      "metadata": {
        "colab": {
          "base_uri": "https://localhost:8080/"
        },
        "collapsed": true,
        "outputId": "31423d10-c351-4d51-965d-fcabcaf5c295",
        "id": "l5a-5c2Y8Dgr"
      },
      "outputs": [
        {
          "output_type": "stream",
          "name": "stdout",
          "text": [
            "Requirement already satisfied: snowflake-connector-python in /usr/local/lib/python3.10/dist-packages (3.10.0)\n",
            "Requirement already satisfied: asn1crypto<2.0.0,>0.24.0 in /usr/local/lib/python3.10/dist-packages (from snowflake-connector-python) (1.5.1)\n",
            "Requirement already satisfied: cffi<2.0.0,>=1.9 in /usr/local/lib/python3.10/dist-packages (from snowflake-connector-python) (1.16.0)\n",
            "Requirement already satisfied: cryptography<43.0.0,>=3.1.0 in /usr/local/lib/python3.10/dist-packages (from snowflake-connector-python) (42.0.7)\n",
            "Requirement already satisfied: pyOpenSSL<25.0.0,>=16.2.0 in /usr/local/lib/python3.10/dist-packages (from snowflake-connector-python) (24.1.0)\n",
            "Requirement already satisfied: pyjwt<3.0.0 in /usr/lib/python3/dist-packages (from snowflake-connector-python) (2.3.0)\n",
            "Requirement already satisfied: pytz in /usr/local/lib/python3.10/dist-packages (from snowflake-connector-python) (2023.4)\n",
            "Requirement already satisfied: requests<3.0.0 in /usr/local/lib/python3.10/dist-packages (from snowflake-connector-python) (2.31.0)\n",
            "Requirement already satisfied: packaging in /usr/local/lib/python3.10/dist-packages (from snowflake-connector-python) (24.0)\n",
            "Requirement already satisfied: charset-normalizer<4,>=2 in /usr/local/lib/python3.10/dist-packages (from snowflake-connector-python) (3.3.2)\n",
            "Requirement already satisfied: idna<4,>=2.5 in /usr/local/lib/python3.10/dist-packages (from snowflake-connector-python) (3.7)\n",
            "Requirement already satisfied: certifi>=2017.4.17 in /usr/local/lib/python3.10/dist-packages (from snowflake-connector-python) (2024.2.2)\n",
            "Requirement already satisfied: typing-extensions<5,>=4.3 in /usr/local/lib/python3.10/dist-packages (from snowflake-connector-python) (4.11.0)\n",
            "Requirement already satisfied: filelock<4,>=3.5 in /usr/local/lib/python3.10/dist-packages (from snowflake-connector-python) (3.14.0)\n",
            "Requirement already satisfied: sortedcontainers>=2.4.0 in /usr/local/lib/python3.10/dist-packages (from snowflake-connector-python) (2.4.0)\n",
            "Requirement already satisfied: platformdirs<5.0.0,>=2.6.0 in /usr/local/lib/python3.10/dist-packages (from snowflake-connector-python) (4.2.1)\n",
            "Requirement already satisfied: tomlkit in /usr/local/lib/python3.10/dist-packages (from snowflake-connector-python) (0.12.5)\n",
            "Requirement already satisfied: pycparser in /usr/local/lib/python3.10/dist-packages (from cffi<2.0.0,>=1.9->snowflake-connector-python) (2.22)\n",
            "Requirement already satisfied: urllib3<3,>=1.21.1 in /usr/local/lib/python3.10/dist-packages (from requests<3.0.0->snowflake-connector-python) (2.0.7)\n",
            "Requirement already satisfied: google-cloud-bigquery in /usr/local/lib/python3.10/dist-packages (3.21.0)\n",
            "Requirement already satisfied: google-api-core[grpc]!=2.0.*,!=2.1.*,!=2.10.*,!=2.2.*,!=2.3.*,!=2.4.*,!=2.5.*,!=2.6.*,!=2.7.*,!=2.8.*,!=2.9.*,<3.0.0dev,>=1.34.1 in /usr/local/lib/python3.10/dist-packages (from google-cloud-bigquery) (2.11.1)\n",
            "Requirement already satisfied: google-auth<3.0.0dev,>=2.14.1 in /usr/local/lib/python3.10/dist-packages (from google-cloud-bigquery) (2.27.0)\n",
            "Requirement already satisfied: google-cloud-core<3.0.0dev,>=1.6.0 in /usr/local/lib/python3.10/dist-packages (from google-cloud-bigquery) (2.3.3)\n",
            "Requirement already satisfied: google-resumable-media<3.0dev,>=0.6.0 in /usr/local/lib/python3.10/dist-packages (from google-cloud-bigquery) (2.7.0)\n",
            "Requirement already satisfied: packaging>=20.0.0 in /usr/local/lib/python3.10/dist-packages (from google-cloud-bigquery) (24.0)\n",
            "Requirement already satisfied: python-dateutil<3.0dev,>=2.7.2 in /usr/local/lib/python3.10/dist-packages (from google-cloud-bigquery) (2.8.2)\n",
            "Requirement already satisfied: requests<3.0.0dev,>=2.21.0 in /usr/local/lib/python3.10/dist-packages (from google-cloud-bigquery) (2.31.0)\n",
            "Requirement already satisfied: googleapis-common-protos<2.0.dev0,>=1.56.2 in /usr/local/lib/python3.10/dist-packages (from google-api-core[grpc]!=2.0.*,!=2.1.*,!=2.10.*,!=2.2.*,!=2.3.*,!=2.4.*,!=2.5.*,!=2.6.*,!=2.7.*,!=2.8.*,!=2.9.*,<3.0.0dev,>=1.34.1->google-cloud-bigquery) (1.63.0)\n",
            "Requirement already satisfied: protobuf!=3.20.0,!=3.20.1,!=4.21.0,!=4.21.1,!=4.21.2,!=4.21.3,!=4.21.4,!=4.21.5,<5.0.0.dev0,>=3.19.5 in /usr/local/lib/python3.10/dist-packages (from google-api-core[grpc]!=2.0.*,!=2.1.*,!=2.10.*,!=2.2.*,!=2.3.*,!=2.4.*,!=2.5.*,!=2.6.*,!=2.7.*,!=2.8.*,!=2.9.*,<3.0.0dev,>=1.34.1->google-cloud-bigquery) (3.20.3)\n",
            "Requirement already satisfied: grpcio<2.0dev,>=1.33.2 in /usr/local/lib/python3.10/dist-packages (from google-api-core[grpc]!=2.0.*,!=2.1.*,!=2.10.*,!=2.2.*,!=2.3.*,!=2.4.*,!=2.5.*,!=2.6.*,!=2.7.*,!=2.8.*,!=2.9.*,<3.0.0dev,>=1.34.1->google-cloud-bigquery) (1.63.0)\n",
            "Requirement already satisfied: grpcio-status<2.0.dev0,>=1.33.2 in /usr/local/lib/python3.10/dist-packages (from google-api-core[grpc]!=2.0.*,!=2.1.*,!=2.10.*,!=2.2.*,!=2.3.*,!=2.4.*,!=2.5.*,!=2.6.*,!=2.7.*,!=2.8.*,!=2.9.*,<3.0.0dev,>=1.34.1->google-cloud-bigquery) (1.48.2)\n",
            "Requirement already satisfied: cachetools<6.0,>=2.0.0 in /usr/local/lib/python3.10/dist-packages (from google-auth<3.0.0dev,>=2.14.1->google-cloud-bigquery) (5.3.3)\n",
            "Requirement already satisfied: pyasn1-modules>=0.2.1 in /usr/local/lib/python3.10/dist-packages (from google-auth<3.0.0dev,>=2.14.1->google-cloud-bigquery) (0.4.0)\n",
            "Requirement already satisfied: rsa<5,>=3.1.4 in /usr/local/lib/python3.10/dist-packages (from google-auth<3.0.0dev,>=2.14.1->google-cloud-bigquery) (4.9)\n",
            "Requirement already satisfied: google-crc32c<2.0dev,>=1.0 in /usr/local/lib/python3.10/dist-packages (from google-resumable-media<3.0dev,>=0.6.0->google-cloud-bigquery) (1.5.0)\n",
            "Requirement already satisfied: six>=1.5 in /usr/local/lib/python3.10/dist-packages (from python-dateutil<3.0dev,>=2.7.2->google-cloud-bigquery) (1.16.0)\n",
            "Requirement already satisfied: charset-normalizer<4,>=2 in /usr/local/lib/python3.10/dist-packages (from requests<3.0.0dev,>=2.21.0->google-cloud-bigquery) (3.3.2)\n",
            "Requirement already satisfied: idna<4,>=2.5 in /usr/local/lib/python3.10/dist-packages (from requests<3.0.0dev,>=2.21.0->google-cloud-bigquery) (3.7)\n",
            "Requirement already satisfied: urllib3<3,>=1.21.1 in /usr/local/lib/python3.10/dist-packages (from requests<3.0.0dev,>=2.21.0->google-cloud-bigquery) (2.0.7)\n",
            "Requirement already satisfied: certifi>=2017.4.17 in /usr/local/lib/python3.10/dist-packages (from requests<3.0.0dev,>=2.21.0->google-cloud-bigquery) (2024.2.2)\n",
            "Requirement already satisfied: pyasn1<0.7.0,>=0.4.6 in /usr/local/lib/python3.10/dist-packages (from pyasn1-modules>=0.2.1->google-auth<3.0.0dev,>=2.14.1->google-cloud-bigquery) (0.6.0)\n"
          ]
        }
      ],
      "source": [
        "# Install required packages\n",
        "!pip install snowflake-connector-python\n",
        "!pip install google-cloud-bigquery"
      ]
    },
    {
      "cell_type": "code",
      "source": [
        "# Execute a query\n",
        "cur.executescript(\"\"\"with calendar_complet as (SELECT n, theDate,\n",
        "  DECODE (EXTRACT('dayofweek',theDate),\n",
        "    1 , 'Monday',\n",
        "    2 , 'Tuesday',\n",
        "    3 , 'Wednesday',\n",
        "    4 , 'Thursday',\n",
        "    5 , 'Friday',\n",
        "    6 , 'Saturday',\n",
        "    0 , 'Sunday'\n",
        "    ) theDayOfTheWeek,\n",
        "DECODE (EXTRACT(month FROM theDate),\n",
        "    1 , 'January',\n",
        "    2 , 'February',\n",
        "    3 , 'March',\n",
        "    4 , 'April',\n",
        "    5 , 'May',\n",
        "    6 , 'June',\n",
        "    7 , 'July',\n",
        "    8 , 'August',\n",
        "    9 , 'september',\n",
        "    10, 'October',\n",
        "    11, 'November',\n",
        "    12, 'December'\n",
        "    ) theMonth,\n",
        "  EXTRACT(month FROM theDate) as theMonthNum,\n",
        "  EXTRACT(year from theDate) theYear\n",
        "  FROM\n",
        "  (SELECT\n",
        "    row_number() OVER (order by seq4()) AS n,\n",
        "    DATEADD(day, row_number() OVER (order by seq4())-1, TO_DATE('2023-01-01'))\n",
        "    AS theDate\n",
        "    FROM table(generator(rowCount => (365 + 122))\n",
        "    ))  ORDER BY n ASC),\n",
        "calendar_ref as(\n",
        "SELECT\n",
        "    DISTINCT theYear,\n",
        "    theMonth,\n",
        "    theMonthNum\n",
        "from calendar_complet\n",
        "),\n",
        "customer_list_ref as (\n",
        "SELECT\n",
        "REGION, CUSTOMER_INFORMATION_EMAIL,CUSTOMER_ID\n",
        "FROM ANALYTICS.DBT.DIM_CUSTOMER\n",
        "where CUSTOMER_ID is not null\n",
        "),\n",
        "reference_customer as (SELECT\n",
        "REGION,\n",
        "CUSTOMER_INFORMATION_EMAIL,\n",
        "CUSTOMER_ID,\n",
        "theMonth,\n",
        "theMonthNum,\n",
        "theYear\n",
        "fROM customer_list_ref CROSS JOIN calendar_ref\n",
        "ORDER BY theYear,theMonthNum,theMonth),\n",
        "\n",
        "order_aggregate as (SELECT\n",
        "REGION,\n",
        "CUSTOMER_INFORMATION_EMAIL,\n",
        "CUSTOMER_ID,\n",
        "COUNT( ORDER_ID) as NUMBER_ORDER_TOTAL\n",
        "FROM ANALYTICS.DBT.FCT_ORDER\n",
        "GROUP BY REGION, CUSTOMER_INFORMATION_EMAIL,CUSTOMER_ID),\n",
        "\n",
        "reference_list as (SELECT\n",
        "r.REGION,\n",
        "r.CUSTOMER_INFORMATION_EMAIL,\n",
        "r.CUSTOMER_ID,\n",
        "theMonth,\n",
        "theMonthNum,\n",
        "theYear,\n",
        "NUMBER_ORDER_TOTAL\n",
        "fROM reference_customer r CROSS JOIN order_aggregate a WHERE r.CUSTOMER_ID=a.CUSTOMER_ID AND r.REGION=a.REGION AND r.CUSTOMER_INFORMATION_EMAIL=a.CUSTOMER_INFORMATION_EMAIL\n",
        "ORDER BY theYear,theMonthNum,theMonth),\n",
        "\n",
        "ces_last_time as (\n",
        "SELECT  CUSTOMER_ID, MAX(publish_time) as last_time\n",
        "FROM ANALYTICS.DBT.FCT_CES_RESPONSE\n",
        "group by CUSTOMER_ID\n",
        "),\n",
        "\n",
        " ces_last_score as (\n",
        "SELECT  f.CUSTOMER_ID, score as last_CES\n",
        "FROM ANALYTICS.DBT.FCT_CES_RESPONSE f inner join ces_last_time l on f.CUSTOMER_ID=l.CUSTOMER_ID and f.publish_time=l.last_time\n",
        "),\n",
        "\n",
        "ces_average_score as(\n",
        "SELECT  CUSTOMER_ID, AVG(score) as CES_AVG_score\n",
        "FROM ANALYTICS.DBT.FCT_CES_RESPONSE\n",
        "group by CUSTOMER_ID\n",
        "),\n",
        "\n",
        "ces_data as (select\n",
        "a.CUSTOMER_ID, CES_AVG_score, last_CES\n",
        "from ces_average_score a inner join ces_last_score l on a.CUSTOMER_ID=l.CUSTOMER_ID\n",
        "order by CUSTOMER_ID),\n",
        "\n",
        "status as (SELECt\n",
        "REGION, CUSTOMER_INFORMATION_EMAIL, STATUS\n",
        "FROM ANALYTICS.DBT_REPORTS.CUSTOMER_STATUS_HISTORY\n",
        "where IS_CURRENT=TRUE),\n",
        "\n",
        "customer_row as (SELECT\n",
        "c.REGION,\n",
        "c.CUSTOMER_INFORMATION_EMAIL,\n",
        "c.CUSTOMER_ID,\n",
        "DATEDIFF(day,LATEST_ORDER_AT, current_timestamp) as number_days_since_last_order,\n",
        "AVERAGE_ORDER_TOTAL_INCLUDING_VAT,\n",
        "LIFETIME_DISCOUNT_VALUE_VAT0,\n",
        "LIFETIME_NET_SALES_VAT0,\n",
        "DAYS_TO_REPURCHASE,\n",
        "DAYS_SINCE_FIRST_ORDER,\n",
        "STATUS,\n",
        "ORDER_COUNT\n",
        "FROM ANALYTICS.DBT.DIM_CUSTOMER c LEFT OUTER JOIN status s ON s.REGION=c.REGION AND s.CUSTOMER_INFORMATION_EMAIL=c.CUSTOMER_INFORMATION_EMAIL),\n",
        "\n",
        "ga4_per_month as ( SELECT\n",
        "REGION,\n",
        "YEAR(SESSION_DATE) as SESSION_YEAR_PERIOD,\n",
        "MONTH(SESSION_DATE) as SESSION_MONTH_PERIOD,\n",
        "CUSTOMER_ID,\n",
        "DATEDIFF(day, MAX(SESSION_DATE), current_timestamp) as number_days_since_last_session,\n",
        "count(GA_SESSION_ID) as sessions,\n",
        "count(case when engaged_session then 1 end) as engaged_sessions,\n",
        "count(case when quality_session then 1 end) as quality_sessions,\n",
        "count(case when cart_addition_sessions  then 1 end) as cart_addition_sessions,\n",
        "count(case when begin_checkout_sessions then 1 end) as begin_checkout_sessions,\n",
        "count(case when subscribers_sessions then 1 when sms_subscribers_sessions then 1 end) as subscribers_sessions,\n",
        "count(case when reached_20e_in_basket then 1 end) as reached_20e_in_basket_sessions,\n",
        "count(case when reached_35e_in_basket then 1 end) as reached_35e_in_basket_sessions,\n",
        "count(case when reached_5th_product_in_cart then 1 end ) as reached_5th_product_in_cart_sessions\n",
        "FROM ANALYTICS.DBT.FCT_GA_SESSION\n",
        "GROUP BY  REGION,CUSTOMER_ID, YEAR(SESSION_DATE), MONTH(SESSION_DATE)),\n",
        "\n",
        "\n",
        "\n",
        "ga4_total as (select\n",
        "REGION,\n",
        "CUSTOMER_ID,\n",
        "MIN(number_days_since_last_session) as number_days_since_last_session,\n",
        "SUM(sessions) as total_sessions,\n",
        "SUM(engaged_sessions) as total_engaged_sessions,\n",
        "SUM(quality_sessions) as total_quality_sessions,\n",
        "SUM(cart_addition_sessions) as total_cart_addition_sessions,\n",
        "SUM(begin_checkout_sessions) as total_begin_checkout_sessions,\n",
        "SUM(subscribers_sessions) as total_subscribers_sessions,\n",
        "SUM(reached_20e_in_basket_sessions) as total_reached_20e_in_basket_sessions,\n",
        "SUM(reached_35e_in_basket_sessions) as total_reached_35e_in_basket_sessions,\n",
        "SUM(reached_5th_product_in_cart_sessions) as total_reached_5th_product_in_cart_sessions,\n",
        "FROM ga4_per_month\n",
        "GROUP BY REGION,  CUSTOMER_ID),\n",
        "\n",
        "ga4_aggregation as (Select\n",
        "REGION,\n",
        "CUSTOMER_ID,\n",
        "avg(reached_5th_product_in_cart_sessions) as avg_reached_5th_product_in_cart_sessions,\n",
        "avg(reached_35e_in_basket_sessions) as avg_reached_35e_in_basket_sessions,\n",
        "avg(reached_20e_in_basket_sessions) as avg_reached_20e_in_basket_sessions,\n",
        "avg(cart_addition_sessions) as avg_cart_addition_sessions,\n",
        "avg(begin_checkout_sessions) as avg_begin_checkout_sessions,\n",
        "avg(quality_sessions) as avg_quality_sessions\n",
        "from ga4_per_month\n",
        "group by REGION, CUSTOMER_ID\n",
        "),\n",
        "\n",
        "ga4_ratio as (SELECT\n",
        "m.REGION,\n",
        "m.CUSTOMER_ID,\n",
        "m.SESSION_MONTH_PERIOD,\n",
        "m.SESSION_YEAR_PERIOD,\n",
        "number_days_since_last_session,\n",
        "DIV0(reached_5th_product_in_cart_sessions, avg_reached_5th_product_in_cart_sessions) as ratio_period_5th_product_in_cart,\n",
        "DIV0(reached_35e_in_basket_sessions, avg_reached_35e_in_basket_sessions) as ratio_reached_35e_in_basket,\n",
        "DIV0(reached_20e_in_basket_sessions, avg_reached_20e_in_basket_sessions) as ratio_reached_20e_in_basket,\n",
        "DIV0(cart_addition_sessions, avg_cart_addition_sessions) as ratio_cart_addition,\n",
        "DIV0(begin_checkout_sessions, avg_begin_checkout_sessions) as ratio_begin_checkout,\n",
        "DIV0(quality_sessions, avg_quality_sessions) as ratio_quality_sessions\n",
        "from ga4_per_month m inner join ga4_aggregation a on a.CUSTOMER_ID=m.CUSTOMER_ID and a.REGION=m.REGION\n",
        "),\n",
        "\n",
        "nps_last_time as (\n",
        "SELECT  REGION, CUSTOMER_INFORMATION_EMAIL, CUSTOMER_ID, MAX(CREATED_AT) as last_time\n",
        "FROM ANALYTICS.DBT.FCT_ORDER\n",
        "group by REGION,CUSTOMER_INFORMATION_EMAIL, CUSTOMER_ID\n",
        "),\n",
        "\n",
        "nps_last_score as (\n",
        "SELECT  f.REGION,f.CUSTOMER_INFORMATION_EMAIL, f.CUSTOMER_ID, CUSTOMER_EFFORT_SCORE as last_NPS\n",
        "FROM ANALYTICS.DBT.FCT_ORDER f inner join nps_last_time l on f.CUSTOMER_ID=l.CUSTOMER_ID and f.CREATED_AT=l.last_time and f.REGION=l.REGION and f.CUSTOMER_INFORMATION_EMAIL=l.CUSTOMER_INFORMATION_EMAIL\n",
        "),\n",
        "\n",
        "nps_average_score as(\n",
        "SELECT  REGION,CUSTOMER_INFORMATION_EMAIL,CUSTOMER_ID, AVG(CUSTOMER_EFFORT_SCORE) as NPS_AVG_score\n",
        "FROM ANALYTICS.DBT.FCT_ORDER\n",
        "group by REGION,CUSTOMER_INFORMATION_EMAIL,CUSTOMER_ID\n",
        "),\n",
        "\n",
        "nps_data as(select\n",
        "a.REGION,a.CUSTOMER_INFORMATION_EMAIL,a.CUSTOMER_ID, NPS_AVG_score, last_NPS\n",
        "from nps_average_score a inner join nps_last_score l on a.CUSTOMER_ID=l.CUSTOMER_ID and a.REGION=l.REGION and a.CUSTOMER_INFORMATION_EMAIL=l.CUSTOMER_INFORMATION_EMAIL\n",
        "order by REGION,CUSTOMER_ID),\n",
        "\n",
        "--first calculation of the delivery method preference\n",
        "by_delivery_method as (SELECT REGION,CUSTOMER_INFORMATION_EMAIL,\n",
        "CUSTOMER_ID, SHIPPING_METHOD_NAME, count(distinct order_id) as number_order_by_delivery_method\n",
        "FROM ANALYTICS.DBT.FCT_ORDER\n",
        "GROUP BY 1,2,3,4),\n",
        "\n",
        "total_order_delivery as (SELECT REGION,CUSTOMER_INFORMATION_EMAIL,\n",
        "CUSTOMER_ID, count(distinct order_id) as number_orders\n",
        "FROM ANALYTICS.DBT.FCT_ORDER\n",
        "GROUP BY 1,2,3),\n",
        "\n",
        "delivery_preference as (select\n",
        "t.REGION,\n",
        "t.CUSTOMER_INFORMATION_EMAIL,\n",
        "t.CUSTOMER_ID,\n",
        "SHIPPING_METHOD_NAME as Delivery_method_preference,\n",
        "number_order_by_delivery_method/number_orders as ratio\n",
        "from total_order_delivery t join by_delivery_method d on t.CUSTOMER_ID=d.CUSTOMER_ID  and t.REGION=d.REGION  and t.CUSTOMER_INFORMATION_EMAIL=d.CUSTOMER_INFORMATION_EMAIL\n",
        "where ratio > 0.80),\n",
        "\n",
        "row_order_data as (SELECT\n",
        " o.REGION,ORDER_ROW_ID, CUSTOMER_INFORMATION_EMAIL, CUSTOMER_ID, o.PRODUCT_ID, o.QUANTITY, MAIN_CATEGORY_NAME, MAIN_CATEGORY_ID\n",
        "FROM ANALYTICS.DBT.FCT_ORDER_ROW o JOIN ANALYTICS.DBT.DIM_PRODUCT p\n",
        "WHERE o.REGION=p.REGION AND o.PRODUCT_ID=p.PRODUCT_ID\n",
        "ORDER BY REGIOn, CUSTOMER_INFORMATION_EMAIL, CUSTOMER_ID),\n",
        "total_product_category as (SELECT REGION,CUSTOMER_INFORMATION_EMAIL,\n",
        "    CUSTOMER_ID, SUM(QUANTITY) as total_cat, MAIN_CATEGORY_NAME, MAIN_CATEGORY_ID\n",
        "    from row_order_data\n",
        "    group by REGION,CUSTOMER_INFORMATION_EMAIL,CUSTOMER_ID,MAIN_CATEGORY_NAME, MAIN_CATEGORY_ID),\n",
        "total_order_category as (select\n",
        "    REGION,CUSTOMER_INFORMATION_EMAIL,CUSTOMER_ID, SUM(QUANTITY) as total_ordered\n",
        "    from row_order_data\n",
        "    group by REGION,CUSTOMER_INFORMATION_EMAIL,CUSTOMER_ID),\n",
        "category_preference as (select\n",
        "t.REGION,t.CUSTOMER_INFORMATION_EMAIL,t.CUSTOMER_ID, MAIN_CATEGORY_NAME as Special_diet, MAIN_CATEGORY_ID as Special_diet_id, total_cat/total_ordered as ratio\n",
        "from total_order_category t join total_product_category c on t.CUSTOMER_ID=c.CUSTOMER_ID and t.REGION=c.REGION and t.CUSTOMER_INFORMATION_EMAIL=c.CUSTOMER_INFORMATION_EMAIL\n",
        "where total_ordered>0 and ratio > 0.80 and MAIN_CATEGORY_ID!=0),\n",
        "\n",
        "order_per_month as (SELECT\n",
        "REGION,\n",
        "CUSTOMER_INFORMATION_EMAIL,\n",
        "CUSTOMER_ID,\n",
        "YEAR(CREATED_AT) as SESSION_YEAR_PERIOD,\n",
        "MONTH(CREATED_AT) as SESSION_MONTH_PERIOD,\n",
        "COUNT(ORDER_ID) as NUMBER_ORDER\n",
        "FROM ANALYTICS.DBT.FCT_ORDER\n",
        "GROUP BY REGION, CUSTOMER_INFORMATION_EMAIL,CUSTOMER_ID, SESSION_YEAR_PERIOD,SESSION_MONTH_PERIOD),\n",
        "\n",
        "order_total as(select\n",
        "m.REGION,\n",
        "m.CUSTOMER_INFORMATION_EMAIL,\n",
        "m.CUSTOMER_ID,\n",
        "SESSION_MONTH_PERIOD,\n",
        "SESSION_YEAR_PERIOD,\n",
        "NUMBER_ORDER_TOTAL,\n",
        "DIV0(NUMBER_ORDER, NUMBER_ORDER_TOTAL) as order_frequency\n",
        "FROM order_per_month m inner join order_aggregate a on a.CUSTOMER_ID=m.CUSTOMER_ID and m.REGION=a.REGION and m.CUSTOMER_INFORMATION_EMAIL=a.CUSTOMER_INFORMATION_EMAIL),\n",
        "\n",
        "reference_ga4 as (select\n",
        "r.REGION,\n",
        "r.CUSTOMER_INFORMATION_EMAIL,\n",
        "r.CUSTOMER_ID,\n",
        "theMonth,\n",
        "theMonthNum,\n",
        "theYear,\n",
        "number_days_since_last_session,\n",
        "ratio_period_5th_product_in_cart,\n",
        "ratio_reached_35e_in_basket,\n",
        "ratio_reached_20e_in_basket,\n",
        "ratio_cart_addition,\n",
        "ratio_begin_checkout,\n",
        "ratio_quality_sessions\n",
        "FROM reference_list r LEFT OUTER JOIN ga4_ratio ga4 on ga4.CUSTOMER_ID=r.CUSTOMER_ID and ga4.SESSION_MONTH_PERIOD=r.theMonthNum and r.theYear=ga4.SESSION_YEAR_PERIOD and r.REGION=ga4.REGION),\n",
        "\n",
        "\n",
        "\n",
        "pre_total_ces as (SELECT\n",
        "c.REGION,\n",
        "c.CUSTOMER_INFORMATION_EMAIL,\n",
        "c.CUSTOMER_ID,\n",
        "number_days_since_last_order,\n",
        "AVERAGE_ORDER_TOTAL_INCLUDING_VAT,\n",
        "LIFETIME_DISCOUNT_VALUE_VAT0,\n",
        "LIFETIME_NET_SALES_VAT0,\n",
        "DAYS_TO_REPURCHASE,\n",
        "DAYS_SINCE_FIRST_ORDER,\n",
        "ORDER_COUNT,\n",
        "STATUS,\n",
        "DIV0(last_CES, CES_AVG_score) as CES_last_vs_Average\n",
        "FROM customer_row c LEFT OUTER JOIN ces_data on ces_data.CUSTOMER_ID=c.CUSTOMER_ID),\n",
        "\n",
        "pre_total_ces_nps as (SELECT\n",
        "c.REGION,\n",
        "c.CUSTOMER_INFORMATION_EMAIL,\n",
        "c.CUSTOMER_ID,\n",
        "number_days_since_last_order,\n",
        "AVERAGE_ORDER_TOTAL_INCLUDING_VAT,\n",
        "LIFETIME_DISCOUNT_VALUE_VAT0,\n",
        "LIFETIME_NET_SALES_VAT0,\n",
        "DAYS_TO_REPURCHASE,\n",
        "DAYS_SINCE_FIRST_ORDER,\n",
        "ORDER_COUNT,\n",
        "STATUS,\n",
        "CES_last_vs_Average,\n",
        "DIV0(last_NPS, NPS_AVG_score) as NPS_last_vs_Average\n",
        "FROM pre_total_ces c LEFT OUTER JOIN nps_data on nps_data.CUSTOMER_ID=c.CUSTOMER_ID and c.REGION=nps_data.REGION and c.CUSTOMER_INFORMATION_EMAIL=nps_data.CUSTOMER_INFORMATION_EMAIL),\n",
        "\n",
        "pre_total_ces_nps_delivery as (SELECT\n",
        "c.REGION,\n",
        "c.CUSTOMER_INFORMATION_EMAIL,\n",
        "c.CUSTOMER_ID,\n",
        "number_days_since_last_order,\n",
        "AVERAGE_ORDER_TOTAL_INCLUDING_VAT,\n",
        "LIFETIME_DISCOUNT_VALUE_VAT0,\n",
        "LIFETIME_NET_SALES_VAT0,\n",
        "DAYS_TO_REPURCHASE,\n",
        "DAYS_SINCE_FIRST_ORDER,\n",
        "ORDER_COUNT,\n",
        "STATUS,\n",
        "CES_last_vs_Average,\n",
        "NPS_last_vs_Average,\n",
        "Delivery_method_preference\n",
        "FROM pre_total_ces_nps c LEFT OUTER JOIN delivery_preference d on d.CUSTOMER_ID=c.CUSTOMER_ID and c.REGION=d.REGION and c.CUSTOMER_INFORMATION_EMAIL=d.CUSTOMER_INFORMATION_EMAIL),\n",
        "\n",
        "pre_total_ces_nps_delivery_category as (SELECT\n",
        "c.REGION,\n",
        "c.CUSTOMER_INFORMATION_EMAIL,\n",
        "c.CUSTOMER_ID,\n",
        "number_days_since_last_order,\n",
        "AVERAGE_ORDER_TOTAL_INCLUDING_VAT,\n",
        "LIFETIME_DISCOUNT_VALUE_VAT0,\n",
        "LIFETIME_NET_SALES_VAT0,\n",
        "DAYS_TO_REPURCHASE,\n",
        "DAYS_SINCE_FIRST_ORDER,\n",
        "ORDER_COUNT,\n",
        "STATUS,\n",
        "CES_last_vs_Average,\n",
        "NPS_last_vs_Average,\n",
        "Delivery_method_preference,\n",
        "Special_diet\n",
        "FROM pre_total_ces_nps_delivery c LEFT OUTER JOIN category_preference d on d.CUSTOMER_ID=c.CUSTOMER_ID and c.REGION=d.REGION and c.CUSTOMER_INFORMATION_EMAIL=d.CUSTOMER_INFORMATION_EMAIL),\n",
        "\n",
        "\n",
        "pre_total_ces_nps_delivery_category_ga4 as (SELECT\n",
        "c.REGION,\n",
        "c.CUSTOMER_INFORMATION_EMAIL,\n",
        "c.CUSTOMER_ID,\n",
        "number_days_since_last_order,\n",
        "AVERAGE_ORDER_TOTAL_INCLUDING_VAT,\n",
        "LIFETIME_DISCOUNT_VALUE_VAT0,\n",
        "LIFETIME_NET_SALES_VAT0,\n",
        "DAYS_TO_REPURCHASE,\n",
        "DAYS_SINCE_FIRST_ORDER,\n",
        "ORDER_COUNT,\n",
        "STATUS,\n",
        "CES_last_vs_Average,\n",
        "NPS_last_vs_Average,\n",
        "Delivery_method_preference,\n",
        "Special_diet,\n",
        "number_days_since_last_session,\n",
        "total_sessions,\n",
        "total_engaged_sessions,\n",
        "total_quality_sessions,\n",
        "total_cart_addition_sessions,\n",
        "total_begin_checkout_sessions,\n",
        "total_subscribers_sessions,\n",
        "total_reached_20e_in_basket_sessions,\n",
        "total_reached_35e_in_basket_sessions,\n",
        "total_reached_5th_product_in_cart_sessions,\n",
        "FROM pre_total_ces_nps_delivery_category c LEFT OUTER JOIN ga4_total d on d.CUSTOMER_ID=c.CUSTOMER_ID and c.REGION=d.REGION ),\n",
        "\n",
        "reference_ga4_april2024 as (select\n",
        "ga4.REGION,\n",
        "ga4.CUSTOMER_INFORMATION_EMAIL,\n",
        "ga4.CUSTOMER_ID,\n",
        "theMonth,\n",
        "theMonthNum,\n",
        "theYear,\n",
        "ratio_period_5th_product_in_cart as ratio_042024_5th_product_in_cart,\n",
        "ratio_reached_35e_in_basket as ratio_042024_reached_35e_in_basket,\n",
        "ratio_reached_20e_in_basket as ratio_042024_reached_20e_in_basket,\n",
        "ratio_cart_addition as ratio_042024_cart_addition,\n",
        "ratio_begin_checkout as ratio_042024_begin_checkout,\n",
        "ratio_quality_sessions as ratio_042024_quality_sessions\n",
        "FROM reference_ga4 ga4\n",
        "WHERE ga4.theMonthNum=04 and 2024=ga4.theYear),\n",
        "\n",
        "reference_ga4_march2024 as (select\n",
        "ga4.REGION,\n",
        "ga4.CUSTOMER_INFORMATION_EMAIL,\n",
        "ga4.CUSTOMER_ID,\n",
        "theMonth,\n",
        "theMonthNum,\n",
        "theYear,\n",
        "ratio_period_5th_product_in_cart as ratio_032024_5th_product_in_cart,\n",
        "ratio_reached_35e_in_basket as ratio_032024_reached_35e_in_basket,\n",
        "ratio_reached_20e_in_basket as ratio_032024_reached_20e_in_basket,\n",
        "ratio_cart_addition as ratio_032024_cart_addition,\n",
        "ratio_begin_checkout as ratio_032024_begin_checkout,\n",
        "ratio_quality_sessions as ratio_032024_quality_sessions\n",
        "FROM reference_ga4 ga4\n",
        "WHERE ga4.theMonthNum=03 and 2024=ga4.theYear),\n",
        "\n",
        "reference_ga4_february2024 as (select\n",
        "ga4.REGION,\n",
        "ga4.CUSTOMER_INFORMATION_EMAIL,\n",
        "ga4.CUSTOMER_ID,\n",
        "theMonth,\n",
        "theMonthNum,\n",
        "theYear,\n",
        "ratio_period_5th_product_in_cart as ratio_022024_5th_product_in_cart,\n",
        "ratio_reached_35e_in_basket as ratio_022024_reached_35e_in_basket,\n",
        "ratio_reached_20e_in_basket as ratio_022024_reached_20e_in_basket,\n",
        "ratio_cart_addition as ratio_022024_cart_addition,\n",
        "ratio_begin_checkout as ratio_022024_begin_checkout,\n",
        "ratio_quality_sessions as ratio_022024_quality_sessions\n",
        "FROM reference_ga4 ga4\n",
        "WHERE ga4.theMonthNum=02 and 2024=ga4.theYear),\n",
        "\n",
        "pre_total_april2024 as(SELECT\n",
        "o.REGION,\n",
        "o.CUSTOMER_INFORMATION_EMAIL,\n",
        "o.CUSTOMER_ID,\n",
        "SESSION_MONTH_PERIOD,\n",
        "SESSION_YEAR_PERIOD,\n",
        "order_frequency as order_frequency_042024,\n",
        "ratio_042024_quality_sessions,\n",
        "ratio_042024_begin_checkout,\n",
        "ratio_042024_cart_addition,\n",
        "ratio_042024_reached_20e_in_basket,\n",
        "ratio_042024_reached_35e_in_basket,\n",
        "ratio_042024_5th_product_in_cart\n",
        "FROM order_total o LEFT OUTER JOIN reference_ga4_april2024 ga4 on ga4.CUSTOMER_ID=o.CUSTOMER_ID AND o.SESSION_MONTH_PERIOD=ga4.theMonthNum  AND o.SESSION_YEAR_PERIOD=ga4.theYear and ga4.REGION=o.REGION and o.CUSTOMER_INFORMATION_EMAIL=ga4.CUSTOMER_INFORMATION_EMAIL\n",
        "where SESSION_MONTH_PERIOD=04 and SESSION_YEAR_PERIOD=2024),\n",
        "\n",
        "pre_total_march2024 as(SELECT\n",
        "o.REGION,\n",
        "o.CUSTOMER_INFORMATION_EMAIL,\n",
        "o.CUSTOMER_ID,\n",
        "SESSION_MONTH_PERIOD,\n",
        "SESSION_YEAR_PERIOD,\n",
        "order_frequency as order_frequency_032024,\n",
        "ratio_032024_quality_sessions,\n",
        "ratio_032024_begin_checkout,\n",
        "ratio_032024_cart_addition,\n",
        "ratio_032024_reached_20e_in_basket,\n",
        "ratio_032024_reached_35e_in_basket,\n",
        "ratio_032024_5th_product_in_cart\n",
        "FROM order_total o LEFT OUTER JOIN reference_ga4_march2024 ga4 on ga4.CUSTOMER_ID=o.CUSTOMER_ID AND o.SESSION_MONTH_PERIOD=ga4.theMonthNum  AND o.SESSION_YEAR_PERIOD=ga4.theYear and ga4.REGION=o.REGION and o.CUSTOMER_INFORMATION_EMAIL=ga4.CUSTOMER_INFORMATION_EMAIL\n",
        "where SESSION_MONTH_PERIOD=03 and SESSION_YEAR_PERIOD=2024 ),\n",
        "\n",
        "pre_total_february2024 as(SELECT\n",
        "o.REGION,\n",
        "o.CUSTOMER_INFORMATION_EMAIL,\n",
        "o.CUSTOMER_ID,\n",
        "SESSION_MONTH_PERIOD,\n",
        "SESSION_YEAR_PERIOD,\n",
        "order_frequency as order_frequency_022024,\n",
        "ratio_022024_quality_sessions,\n",
        "ratio_022024_begin_checkout,\n",
        "ratio_022024_cart_addition,\n",
        "ratio_022024_reached_20e_in_basket,\n",
        "ratio_022024_reached_35e_in_basket,\n",
        "ratio_022024_5th_product_in_cart\n",
        "FROM order_total o LEFT OUTER JOIN reference_ga4_february2024 ga4 on ga4.CUSTOMER_ID=o.CUSTOMER_ID AND o.SESSION_MONTH_PERIOD=ga4.theMonthNum  AND o.SESSION_YEAR_PERIOD=ga4.theYear  and ga4.REGION=o.REGION and o.CUSTOMER_INFORMATION_EMAIL=ga4.CUSTOMER_INFORMATION_EMAIL\n",
        "where SESSION_MONTH_PERIOD=02 and SESSION_YEAR_PERIOD=2024),\n",
        "\n",
        "pre_total_ces_nps_delivery_category_april as(SELECT\n",
        "c.REGION,\n",
        "c.CUSTOMER_INFORMATION_EMAIL,\n",
        "c.CUSTOMER_ID,\n",
        "number_days_since_last_order,\n",
        "AVERAGE_ORDER_TOTAL_INCLUDING_VAT,\n",
        "LIFETIME_DISCOUNT_VALUE_VAT0,\n",
        "LIFETIME_NET_SALES_VAT0,\n",
        "DAYS_TO_REPURCHASE,\n",
        "DAYS_SINCE_FIRST_ORDER,\n",
        "ORDER_COUNT,\n",
        "STATUS,\n",
        "CES_last_vs_Average,\n",
        "NPS_last_vs_Average,\n",
        "Delivery_method_preference,\n",
        "Special_diet,\n",
        "number_days_since_last_session,\n",
        "total_sessions,\n",
        "total_engaged_sessions,\n",
        "total_quality_sessions,\n",
        "total_cart_addition_sessions,\n",
        "total_begin_checkout_sessions,\n",
        "total_subscribers_sessions,\n",
        "total_reached_20e_in_basket_sessions,\n",
        "total_reached_35e_in_basket_sessions,\n",
        "total_reached_5th_product_in_cart_sessions,\n",
        "order_frequency_042024,\n",
        "ratio_042024_quality_sessions,\n",
        "ratio_042024_begin_checkout,\n",
        "ratio_042024_cart_addition,\n",
        "ratio_042024_reached_20e_in_basket,\n",
        "ratio_042024_reached_35e_in_basket,\n",
        "ratio_042024_5th_product_in_cart\n",
        "FROM pre_total_ces_nps_delivery_category_ga4 c LEFT OUTER JOIN pre_total_april2024 d on d.CUSTOMER_ID=c.CUSTOMER_ID AND d.REGION=c.REGION and c.CUSTOMER_INFORMATION_EMAIL=d.CUSTOMER_INFORMATION_EMAIL),\n",
        "\n",
        "\n",
        "pre_total_ces_nps_delivery_category_april_march as(SELECT\n",
        "c.REGION,\n",
        "c.CUSTOMER_INFORMATION_EMAIL,\n",
        "c.CUSTOMER_ID,\n",
        "number_days_since_last_order,\n",
        "AVERAGE_ORDER_TOTAL_INCLUDING_VAT,\n",
        "LIFETIME_DISCOUNT_VALUE_VAT0,\n",
        "LIFETIME_NET_SALES_VAT0,\n",
        "DAYS_TO_REPURCHASE,\n",
        "DAYS_SINCE_FIRST_ORDER,\n",
        "ORDER_COUNT,\n",
        "STATUS,\n",
        "CES_last_vs_Average,\n",
        "NPS_last_vs_Average,\n",
        "Delivery_method_preference,\n",
        "Special_diet,\n",
        "number_days_since_last_session,\n",
        "total_sessions,\n",
        "total_engaged_sessions,\n",
        "total_quality_sessions,\n",
        "total_cart_addition_sessions,\n",
        "total_begin_checkout_sessions,\n",
        "total_subscribers_sessions,\n",
        "total_reached_20e_in_basket_sessions,\n",
        "total_reached_35e_in_basket_sessions,\n",
        "total_reached_5th_product_in_cart_sessions,\n",
        "order_frequency_042024,\n",
        "ratio_042024_quality_sessions,\n",
        "ratio_042024_begin_checkout,\n",
        "ratio_042024_cart_addition,\n",
        "ratio_042024_reached_20e_in_basket,\n",
        "ratio_042024_reached_35e_in_basket,\n",
        "ratio_042024_5th_product_in_cart,\n",
        "order_frequency_032024,\n",
        "ratio_032024_quality_sessions,\n",
        "ratio_032024_begin_checkout,\n",
        "ratio_032024_cart_addition,\n",
        "ratio_032024_reached_20e_in_basket,\n",
        "ratio_032024_reached_35e_in_basket,\n",
        "ratio_032024_5th_product_in_cart\n",
        "FROM pre_total_ces_nps_delivery_category_april c LEFT OUTER JOIN pre_total_march2024 d on d.CUSTOMER_ID=c.CUSTOMER_ID AND d.REGION=c.REGION and c.CUSTOMER_INFORMATION_EMAIL=d.CUSTOMER_INFORMATION_EMAIL),\n",
        "\n",
        "\n",
        "pre_total_ces_nps_delivery_category_april_march_february as(SELECT\n",
        "c.REGION,\n",
        "c.CUSTOMER_INFORMATION_EMAIL,\n",
        "c.CUSTOMER_ID,\n",
        "number_days_since_last_order,\n",
        "AVERAGE_ORDER_TOTAL_INCLUDING_VAT,\n",
        "LIFETIME_DISCOUNT_VALUE_VAT0,\n",
        "LIFETIME_NET_SALES_VAT0,\n",
        "DAYS_TO_REPURCHASE,\n",
        "DAYS_SINCE_FIRST_ORDER,\n",
        "ORDER_COUNT,\n",
        "STATUS,\n",
        "CES_last_vs_Average,\n",
        "NPS_last_vs_Average,\n",
        "Delivery_method_preference,\n",
        "Special_diet,\n",
        "number_days_since_last_session,\n",
        "total_sessions,\n",
        "total_engaged_sessions,\n",
        "total_quality_sessions,\n",
        "total_cart_addition_sessions,\n",
        "total_begin_checkout_sessions,\n",
        "total_subscribers_sessions,\n",
        "total_reached_20e_in_basket_sessions,\n",
        "total_reached_35e_in_basket_sessions,\n",
        "total_reached_5th_product_in_cart_sessions,\n",
        "order_frequency_042024,\n",
        "ratio_042024_quality_sessions,\n",
        "ratio_042024_begin_checkout,\n",
        "ratio_042024_cart_addition,\n",
        "ratio_042024_reached_20e_in_basket,\n",
        "ratio_042024_reached_35e_in_basket,\n",
        "ratio_042024_5th_product_in_cart,\n",
        "order_frequency_032024,\n",
        "ratio_032024_quality_sessions,\n",
        "ratio_032024_begin_checkout,\n",
        "ratio_032024_cart_addition,\n",
        "ratio_032024_reached_20e_in_basket,\n",
        "ratio_032024_reached_35e_in_basket,\n",
        "ratio_032024_5th_product_in_cart,\n",
        "order_frequency_022024,\n",
        "ratio_022024_quality_sessions,\n",
        "ratio_022024_begin_checkout,\n",
        "ratio_022024_cart_addition,\n",
        "ratio_022024_reached_20e_in_basket,\n",
        "ratio_022024_reached_35e_in_basket,\n",
        "ratio_022024_5th_product_in_cart\n",
        "FROM pre_total_ces_nps_delivery_category_april_march c LEFT OUTER JOIN pre_total_february2024 d on d.CUSTOMER_ID=c.CUSTOMER_ID AND d.REGION=c.REGION and c.CUSTOMER_INFORMATION_EMAIL=d.CUSTOMER_INFORMATION_EMAIL)\n",
        "\n",
        "\n",
        "select * from pre_total_ces_nps_delivery_category_april_march_february\n",
        "order by REGION, CUSTOMER_ID\n",
        "\n",
        "\"\"\")\n",
        "\n",
        "# Fetch the results\n",
        "results = cur.fetchall()\n",
        "\n",
        "# Display the results\n",
        "for row in results:\n",
        "    print(row)\n",
        "\n",
        "# Close the cursor and the connection\n",
        "cur.close()\n",
        "conn.close()"
      ],
      "metadata": {
        "id": "mXsLILMZ8EP7"
      },
      "execution_count": null,
      "outputs": []
    },
    {
      "cell_type": "markdown",
      "source": [
        "About BiqQuery, the connector is harder to put in place for only one extract. Therefore the extract is done separately, and the result is stored within GitHub.\n",
        "The file query can be found here: https://github.com/Fiksuruoka-fi/Churn-prediction/blob/main/BigQuery-query.txt\n"
      ],
      "metadata": {
        "id": "IU7vDa3CG0jO"
      }
    },
    {
      "cell_type": "code",
      "source": [
        "urlbe = 'https://github.com/Fiksuruoka-fi/Churn-prediction/blob/main/BE_bquxjob_3943529_18f7b2f60ea.csv'\n",
        "dfbe = pd.read_csv(urlbe)\n",
        "urlnl = 'https://github.com/Fiksuruoka-fi/Churn-prediction/blob/main/NL_bquxjob_bf1cfa8_18f7b2e6e41.csv'\n",
        "dfnl = pd.read_csv(urlnl)\n",
        "urlfi2 = 'https://github.com/Fiksuruoka-fi/Churn-prediction/blob/main/FI-2_bquxjob_5b86c44_18f7b35c300.csv'\n",
        "dffi2 = pd.read_csv(urlfi2)\n",
        "urlfi1 = 'https://github.com/Fiksuruoka-fi/Churn-prediction/blob/main/FI-1_bquxjob_3605090a_18f7b33e0c1.csv'\n",
        "dffi1 = pd.read_csv(urlfi1)\n",
        "# Dataset is now stored in a Pandas Dataframe"
      ],
      "metadata": {
        "colab": {
          "base_uri": "https://localhost:8080/",
          "height": 211
        },
        "id": "12QbhQC-JYij",
        "outputId": "7ddae717-37d7-4d58-b7f0-f20e59ddbdd9"
      },
      "execution_count": null,
      "outputs": [
        {
          "output_type": "error",
          "ename": "NameError",
          "evalue": "name 'pd' is not defined",
          "traceback": [
            "\u001b[0;31m---------------------------------------------------------------------------\u001b[0m",
            "\u001b[0;31mNameError\u001b[0m                                 Traceback (most recent call last)",
            "\u001b[0;32m<ipython-input-1-5197513ca45e>\u001b[0m in \u001b[0;36m<cell line: 2>\u001b[0;34m()\u001b[0m\n\u001b[1;32m      1\u001b[0m \u001b[0murlbe\u001b[0m \u001b[0;34m=\u001b[0m \u001b[0;34m'https://github.com/Fiksuruoka-fi/Churn-prediction/blob/main/BE_bquxjob_3943529_18f7b2f60ea.csv'\u001b[0m\u001b[0;34m\u001b[0m\u001b[0;34m\u001b[0m\u001b[0m\n\u001b[0;32m----> 2\u001b[0;31m \u001b[0mdfbe\u001b[0m \u001b[0;34m=\u001b[0m \u001b[0mpd\u001b[0m\u001b[0;34m.\u001b[0m\u001b[0mread_csv\u001b[0m\u001b[0;34m(\u001b[0m\u001b[0murlbe\u001b[0m\u001b[0;34m)\u001b[0m\u001b[0;34m\u001b[0m\u001b[0;34m\u001b[0m\u001b[0m\n\u001b[0m\u001b[1;32m      3\u001b[0m \u001b[0murlnl\u001b[0m \u001b[0;34m=\u001b[0m \u001b[0;34m'https://github.com/Fiksuruoka-fi/Churn-prediction/blob/main/NL_bquxjob_bf1cfa8_18f7b2e6e41.csv'\u001b[0m\u001b[0;34m\u001b[0m\u001b[0;34m\u001b[0m\u001b[0m\n\u001b[1;32m      4\u001b[0m \u001b[0mdfnl\u001b[0m \u001b[0;34m=\u001b[0m \u001b[0mpd\u001b[0m\u001b[0;34m.\u001b[0m\u001b[0mread_csv\u001b[0m\u001b[0;34m(\u001b[0m\u001b[0murlnl\u001b[0m\u001b[0;34m)\u001b[0m\u001b[0;34m\u001b[0m\u001b[0;34m\u001b[0m\u001b[0m\n\u001b[1;32m      5\u001b[0m \u001b[0murlfi2\u001b[0m \u001b[0;34m=\u001b[0m \u001b[0;34m'https://github.com/Fiksuruoka-fi/Churn-prediction/blob/main/FI-2_bquxjob_5b86c44_18f7b35c300.csv'\u001b[0m\u001b[0;34m\u001b[0m\u001b[0;34m\u001b[0m\u001b[0m\n",
            "\u001b[0;31mNameError\u001b[0m: name 'pd' is not defined"
          ]
        }
      ]
    },
    {
      "cell_type": "markdown",
      "source": [
        "Unfortunately BigQuery has some limitation when it comes to extract and save the data as CSV (except by using an extra BQ table which does not help in our case) So now we put all those extract from BigQuery together."
      ],
      "metadata": {
        "id": "-9oHD1d5RlaG"
      }
    },
    {
      "cell_type": "code",
      "source": [
        "# compile the list of dataframes you want to merge\n",
        "data_frames = [dfbe, dfnl, dffi1, dffi2]\n",
        "data_frames.rename(columns={\"REGION\": \"REGION\", \"user_id\": \"CUSTOMER_ID\", \"campaign\": \"CAMPAIGN\", \"medium\": \"MEDIUM\", \"source\": \"SOURCE\", \"LP_benefit_activation\":\"LP_BENEFIT\", \"unsubscribe\": \"UNSUBSCRIBE\", \"cancellation\": \"CANCELLATION\"})"
      ],
      "metadata": {
        "id": "tzZYqtCUTASE"
      },
      "execution_count": null,
      "outputs": []
    },
    {
      "cell_type": "markdown",
      "source": [
        "Data preparation\n",
        "We have the Snowflake query + the bigQuery extract. On top we are still missing Custobar extract."
      ],
      "metadata": {
        "id": "mTJ5ddwIUup_"
      }
    },
    {
      "cell_type": "code",
      "source": [
        "results.merge(data_frames, how='left', on='CUSTOMER_ID')"
      ],
      "metadata": {
        "id": "p_wyC2gWmMxa"
      },
      "execution_count": null,
      "outputs": []
    },
    {
      "cell_type": "code",
      "source": [
        "# Importing pandas and seaborn libraries for data manipulation and charting\n",
        "import pandas as pd\n",
        "import numpy as np\n",
        "import matplotlib.pyplot as plt"
      ],
      "metadata": {
        "id": "cL69gWYvViTU"
      },
      "execution_count": null,
      "outputs": []
    },
    {
      "cell_type": "code",
      "source": [
        "# Creating a copy of the data frame to be used to\n",
        "# correlate unpsuprvised learning labels with existing categorical variables\n",
        "data_orig = data.copy()"
      ],
      "metadata": {
        "id": "OiL6R5EBVkhu"
      },
      "execution_count": null,
      "outputs": []
    },
    {
      "cell_type": "code",
      "source": [
        "# Following data columns are not important for data analysis\n",
        "# those have to be defined and are not yet fixed except \"STATUS\"\n",
        "to_drop = ['STATUS']#,'REGION','CUSTOMER_INFORMATION_EMAIL','CUSTOMER_ID']\n",
        "# Fix all columns\n",
        "data = column_name_remove_space(data)\n",
        "data.drop(columns=to_drop,inplace=True)"
      ],
      "metadata": {
        "id": "qLt6zvh_Wu2d"
      },
      "execution_count": null,
      "outputs": []
    },
    {
      "cell_type": "code",
      "source": [
        "# Check for null values\n",
        "data.isna().any(axis=0).any()\n",
        "# Replace null values by 0 as in our case that's what it means\n",
        "data.fillna(0)\n",
        "# Also we want to work with data that has value, so dropping all rows that have only NA\n",
        "data = data.dropna(how='all')"
      ],
      "metadata": {
        "id": "Gt9b4-OaZ16Y"
      },
      "execution_count": null,
      "outputs": []
    },
    {
      "cell_type": "code",
      "source": [
        "# Checking number of unique values in each column\n",
        "data.nunique()\n",
        "# Check all the unique values for all the columns having less than 100 unique values\n",
        "# Avoiding the value prints for those columns which have large number of unique values like zipcode or counties etc.\n",
        "\n",
        "for col in data.columns:\n",
        "    if data[col].nunique()<100:\n",
        "        print(col, sorted(data[col].unique()), '\\n')\n"
      ],
      "metadata": {
        "id": "MAy7VrvzbIgY"
      },
      "execution_count": null,
      "outputs": []
    },
    {
      "cell_type": "code",
      "source": [
        "# security check\n",
        "# Check data by printing first few rows\n",
        "data.head()\n",
        "# Check data by printing last few rows\n",
        "data.tail()"
      ],
      "metadata": {
        "id": "_xSo3-qxbtwd"
      },
      "execution_count": null,
      "outputs": []
    },
    {
      "cell_type": "code",
      "source": [
        "# It is important to bring various columns or fields to the\n",
        "# same scale because KMeans work based on distance between points\n",
        "from sklearn.preprocessing import StandardScaler\n",
        "\n",
        "sc = StandardScaler()\n",
        "sc.fit(data)\n",
        "scaled_data_array = sc.transform(data)\n",
        "scaled_data = pd.DataFrame(scaled_data_array, columns = data.columns)\n",
        "scaled_data.head()"
      ],
      "metadata": {
        "id": "BX-dgdo2cj_M"
      },
      "execution_count": null,
      "outputs": []
    },
    {
      "cell_type": "code",
      "source": [
        "# Export data to CSV for submission purposes\n",
        "scaled_data.to_csv('scaled_data.csv')"
      ],
      "metadata": {
        "id": "vyg7Q51tclAM"
      },
      "execution_count": null,
      "outputs": []
    },
    {
      "cell_type": "code",
      "source": [
        "# Running KMeans models to create chart for elbow method\n",
        "\n",
        "from sklearn.cluster import KMeans\n",
        "ks = range(1, 10)    # varying cluster values from 1 to 10\n",
        "inertias = []\n",
        "\n",
        "for k in ks:\n",
        "    model = KMeans(n_clusters=k)\n",
        "    model.fit(scaled_data)\n",
        "    inertias.append(model.inertia_)\n",
        "\n",
        "# Plot ks vs inertias, to apply elbow method\n",
        "plt.plot(ks, inertias, '-o')\n",
        "plt.xlabel('number of clusters, k')\n",
        "plt.ylabel('inertia')\n",
        "plt.xticks(ks)\n",
        "plt.show()"
      ],
      "metadata": {
        "id": "8t7-wFdkcotg"
      },
      "execution_count": null,
      "outputs": []
    },
    {
      "cell_type": "markdown",
      "source": [
        "There is a need for a break here to adjust with the Elbow method and know how many the cluster the method recommends.\n",
        "Anyway we will also try with a fixed number of cluster that corresponds to the internal classification that we have define,\n",
        "- Inactive customers: that group can be split into “inactive_1”, “inactive_2”,\n",
        "“inactive_3plus”.\n",
        "- Onboarding customers: those will be very hard to identify I guess as even on the concept of it, it's hard to explain.\n",
        "- Reactivated customers: those will be very hard to identify I guess as even on the concept of it, it's hard to explain.\n",
        "- Active customers: this group can also be split into “active_low_spend”, “active_medium_spend”, “active_high_spend”."
      ],
      "metadata": {
        "id": "4BH5eL_fc0jT"
      }
    },
    {
      "cell_type": "code",
      "source": [
        "# Based on elbow method, optimal number of clustering is ###\n",
        "# Hence, creating KMeans model with ### clusters for further analysis\n",
        "\n",
        "model = KMeans(n_clusters=###)\n",
        "model.fit(scaled_data)\n",
        "print(model.labels_)"
      ],
      "metadata": {
        "id": "Ca1KMiWsd5X-"
      },
      "execution_count": null,
      "outputs": []
    },
    {
      "cell_type": "code",
      "source": [
        "# Print cluster centers\n",
        "model.cluster_centers_"
      ],
      "metadata": {
        "id": "yNYSzeqmgGIp"
      },
      "execution_count": null,
      "outputs": []
    },
    {
      "cell_type": "code",
      "source": [
        "# Creating a new column in the original data frame containing KMeans labels\n",
        "\n",
        "data_orig['label_'] = model.labels_"
      ],
      "metadata": {
        "id": "jBRFDOFUgMAP"
      },
      "execution_count": null,
      "outputs": []
    },
    {
      "cell_type": "code",
      "source": [
        "# Exploring if KMeans labels have correlation with STATUS field\n",
        "print(data_orig.query('label_==0 and STATUS==\"####\"').Customer_id.count())\n",
        "print(data_orig.query('STATUS==\"####\"').Customer_id.count())"
      ],
      "metadata": {
        "id": "NfZHudcCluzF"
      },
      "execution_count": null,
      "outputs": []
    },
    {
      "cell_type": "code",
      "source": [
        "# Under the assumption that the KMeans is being used as the predictive model for customer churn behavior\n",
        "# we are not creating the confusion matrix\n",
        "\n",
        "from sklearn import metrics\n",
        "y_actual = data_orig['STATUS'].apply(lambda x: 1 if x=='No' else 0)\n",
        "y_pred = data_orig['label_']\n",
        "metrics.confusion_matrix(y_actual, y_pred)"
      ],
      "metadata": {
        "id": "uVsAelXOmAOS"
      },
      "execution_count": null,
      "outputs": []
    },
    {
      "cell_type": "code",
      "source": [
        "# And computing the accuracy score\n",
        "\n",
        "metrics.accuracy_score(y_actual, y_pred)"
      ],
      "metadata": {
        "id": "3Jdv2E-XmDpF"
      },
      "execution_count": null,
      "outputs": []
    }
  ]
}